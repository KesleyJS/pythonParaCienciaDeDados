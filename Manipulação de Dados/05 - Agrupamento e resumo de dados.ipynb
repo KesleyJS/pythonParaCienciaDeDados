{
 "cells": [
  {
   "cell_type": "markdown",
   "id": "f3f2076e",
   "metadata": {},
   "source": [
    "#### Agrupamento e Resumo de Dados\n",
    "***\n",
    "\n",
    "O agrupamento e resumo de dados são etapas essenciais na análise de dados, permitindo extrair informações úteis e insights valiosos a partir de conjuntos de dados complexos. Essas técnicas nos permitem organizar, resumir e comparar os dados com base em categorias ou critérios específicos.\n"
   ]
  },
  {
   "cell_type": "markdown",
   "id": "6072fe86",
   "metadata": {},
   "source": [
    "#### Importação das Bibliotecas\n"
   ]
  },
  {
   "cell_type": "code",
   "execution_count": 1,
   "id": "f42670ce",
   "metadata": {},
   "outputs": [],
   "source": [
    "import pandas as pd"
   ]
  },
  {
   "cell_type": "markdown",
   "id": "3681ec36",
   "metadata": {},
   "source": [
    "#### Coletando Dados de Perfil\n",
    "***"
   ]
  },
  {
   "cell_type": "code",
   "execution_count": 3,
   "id": "7edef8b5",
   "metadata": {},
   "outputs": [
    {
     "data": {
      "text/html": [
       "<div>\n",
       "<style scoped>\n",
       "    .dataframe tbody tr th:only-of-type {\n",
       "        vertical-align: middle;\n",
       "    }\n",
       "\n",
       "    .dataframe tbody tr th {\n",
       "        vertical-align: top;\n",
       "    }\n",
       "\n",
       "    .dataframe thead th {\n",
       "        text-align: right;\n",
       "    }\n",
       "</style>\n",
       "<table border=\"1\" class=\"dataframe\">\n",
       "  <thead>\n",
       "    <tr style=\"text-align: right;\">\n",
       "      <th></th>\n",
       "      <th>idade</th>\n",
       "      <th>classe_trabalho</th>\n",
       "      <th>escolaridade</th>\n",
       "      <th>anos_estudo</th>\n",
       "      <th>estado_civil</th>\n",
       "      <th>raca</th>\n",
       "      <th>sexo</th>\n",
       "      <th>UF</th>\n",
       "      <th>região</th>\n",
       "      <th>qtde_filhos</th>\n",
       "      <th>salario</th>\n",
       "    </tr>\n",
       "  </thead>\n",
       "  <tbody>\n",
       "    <tr>\n",
       "      <th>0</th>\n",
       "      <td>39</td>\n",
       "      <td>Servidor Público</td>\n",
       "      <td>Ensino Médio Completo</td>\n",
       "      <td>13</td>\n",
       "      <td>Solteiro</td>\n",
       "      <td>Branco</td>\n",
       "      <td>Masculino</td>\n",
       "      <td>RO</td>\n",
       "      <td>Norte</td>\n",
       "      <td>2.0</td>\n",
       "      <td>4754</td>\n",
       "    </tr>\n",
       "    <tr>\n",
       "      <th>1</th>\n",
       "      <td>50</td>\n",
       "      <td>Autônomo</td>\n",
       "      <td>Superior Incompleto</td>\n",
       "      <td>13</td>\n",
       "      <td>Casado</td>\n",
       "      <td>Branco</td>\n",
       "      <td>Masculino</td>\n",
       "      <td>AC</td>\n",
       "      <td>Norte</td>\n",
       "      <td>1.0</td>\n",
       "      <td>3923</td>\n",
       "    </tr>\n",
       "    <tr>\n",
       "      <th>2</th>\n",
       "      <td>38</td>\n",
       "      <td>Funcionário Setor Privado</td>\n",
       "      <td>Ensino Médio Incompleto</td>\n",
       "      <td>9</td>\n",
       "      <td>Divorciado</td>\n",
       "      <td>Branco</td>\n",
       "      <td>Masculino</td>\n",
       "      <td>AM</td>\n",
       "      <td>Norte</td>\n",
       "      <td>0.0</td>\n",
       "      <td>1100</td>\n",
       "    </tr>\n",
       "    <tr>\n",
       "      <th>3</th>\n",
       "      <td>53</td>\n",
       "      <td>Funcionário Setor Privado</td>\n",
       "      <td>Ensino Médio Incompleto</td>\n",
       "      <td>7</td>\n",
       "      <td>Casado</td>\n",
       "      <td>Negro</td>\n",
       "      <td>Masculino</td>\n",
       "      <td>RR</td>\n",
       "      <td>Norte</td>\n",
       "      <td>1.0</td>\n",
       "      <td>1100</td>\n",
       "    </tr>\n",
       "    <tr>\n",
       "      <th>4</th>\n",
       "      <td>28</td>\n",
       "      <td>Funcionário Setor Privado</td>\n",
       "      <td>Ensino Médio Completo</td>\n",
       "      <td>13</td>\n",
       "      <td>Casado</td>\n",
       "      <td>Negro</td>\n",
       "      <td>Feminino</td>\n",
       "      <td>PA</td>\n",
       "      <td>Norte</td>\n",
       "      <td>0.0</td>\n",
       "      <td>3430</td>\n",
       "    </tr>\n",
       "  </tbody>\n",
       "</table>\n",
       "</div>"
      ],
      "text/plain": [
       "   idade            classe_trabalho             escolaridade  anos_estudo  \\\n",
       "0     39           Servidor Público    Ensino Médio Completo           13   \n",
       "1     50                   Autônomo      Superior Incompleto           13   \n",
       "2     38  Funcionário Setor Privado  Ensino Médio Incompleto            9   \n",
       "3     53  Funcionário Setor Privado  Ensino Médio Incompleto            7   \n",
       "4     28  Funcionário Setor Privado    Ensino Médio Completo           13   \n",
       "\n",
       "  estado_civil    raca       sexo  UF região  qtde_filhos  salario  \n",
       "0     Solteiro  Branco  Masculino  RO  Norte          2.0     4754  \n",
       "1       Casado  Branco  Masculino  AC  Norte          1.0     3923  \n",
       "2   Divorciado  Branco  Masculino  AM  Norte          0.0     1100  \n",
       "3       Casado   Negro  Masculino  RR  Norte          1.0     1100  \n",
       "4       Casado   Negro   Feminino  PA  Norte          0.0     3430  "
      ]
     },
     "execution_count": 3,
     "metadata": {},
     "output_type": "execute_result"
    }
   ],
   "source": [
    "df = pd.read_csv('./datasets/perfil_clientes.csv', sep=';')\n",
    "df.head()"
   ]
  },
  {
   "cell_type": "markdown",
   "id": "6c326736",
   "metadata": {},
   "source": [
    "#### Método groupby\n",
    "***\n",
    "Uma das principais ferramentas utilizadas para agrupar e resumir dados no pandas, uma biblioteca popular do Python para análise de dados, é o método groupby. Esse método permite agrupar os dados com base em uma ou mais colunas, criando grupos que compartilham características comuns. Em seguida, podemos aplicar funções de agregação aos grupos para resumir os dados, como contar, somar, calcular média, máximo, mínimo, entre outros."
   ]
  },
  {
   "cell_type": "code",
   "execution_count": 5,
   "id": "391a2ce1",
   "metadata": {},
   "outputs": [
    {
     "data": {
      "text/plain": [
       "classe_trabalho\n",
       "Menor Aprendiz               17.000000\n",
       "Estagiário                   19.000000\n",
       "Funcionário Setor Privado    36.280007\n",
       "Servidor Público             38.558528\n",
       "Empresário                   41.006048\n",
       "Funcionário Público          41.402778\n",
       "Autônomo                     42.583333\n",
       "MEI                          44.781818\n",
       "Desempregado                 45.666667\n",
       "Aposentado                   72.202247\n",
       "Name: idade, dtype: float64"
      ]
     },
     "execution_count": 5,
     "metadata": {},
     "output_type": "execute_result"
    }
   ],
   "source": [
    "df.groupby('classe_trabalho')['idade'].mean().sort_values()"
   ]
  },
  {
   "cell_type": "code",
   "execution_count": 8,
   "id": "01f887f7",
   "metadata": {},
   "outputs": [
    {
     "data": {
      "text/plain": [
       "classe_trabalho            estado_civil \n",
       "Aposentado                 Casado           71.235714\n",
       "                           Divorciado       70.173913\n",
       "                           Separado         75.666667\n",
       "                           Solteiro         75.888889\n",
       "                           União Estável    72.666667\n",
       "                           Viúvo            73.197183\n",
       "Autônomo                   Casado           45.197403\n",
       "                           Divorciado       44.045455\n",
       "                           Separado         37.000000\n",
       "                           Solteiro         31.773585\n",
       "                           União Estável    40.625000\n",
       "                           Viúvo            57.777778\n",
       "Desempregado               Casado           54.000000\n",
       "                           Solteiro         18.000000\n",
       "                           Viúvo            65.000000\n",
       "Empresário                 Casado           43.181818\n",
       "                           Divorciado       43.488095\n",
       "                           Separado         41.576923\n",
       "                           Solteiro         33.560000\n",
       "                           União Estável    38.000000\n",
       "                           Viúvo            53.866667\n",
       "Estagiário                 Solteiro         19.000000\n",
       "Funcionário Público        Casado           43.626263\n",
       "                           Divorciado       44.619048\n",
       "                           Separado         46.333333\n",
       "                           Solteiro         33.548387\n",
       "                           União Estável    48.000000\n",
       "                           Viúvo            57.333333\n",
       "Funcionário Setor Privado  Casado           40.728821\n",
       "                           Divorciado       41.371242\n",
       "                           Separado         38.283237\n",
       "                           Solteiro         27.677116\n",
       "                           União Estável    38.342105\n",
       "                           Viúvo            51.685714\n",
       "MEI                        Casado           46.166667\n",
       "                           Divorciado       45.838710\n",
       "                           Separado         45.428571\n",
       "                           Solteiro         29.782609\n",
       "                           União Estável    43.500000\n",
       "                           Viúvo            54.500000\n",
       "Menor Aprendiz             Casado           17.000000\n",
       "                           Solteiro         17.000000\n",
       "Servidor Público           Casado           41.517986\n",
       "                           Divorciado       43.318182\n",
       "                           Separado         41.357143\n",
       "                           Solteiro         31.130435\n",
       "                           União Estável    34.666667\n",
       "                           Viúvo            50.250000\n",
       "Name: idade, dtype: float64"
      ]
     },
     "execution_count": 8,
     "metadata": {},
     "output_type": "execute_result"
    }
   ],
   "source": [
    "df.groupby(['classe_trabalho', 'estado_civil'])['idade'].mean()"
   ]
  },
  {
   "cell_type": "code",
   "execution_count": null,
   "id": "18b44cc5",
   "metadata": {},
   "outputs": [],
   "source": []
  },
  {
   "cell_type": "markdown",
   "id": "c9f78ee7",
   "metadata": {},
   "source": [
    "#### Método agg\n",
    "***\n",
    "Esse método permite aplicar várias funções de agregação aos grupos definidos pelo groupby. Podemos calcular diferentes métricas para cada grupo ou até mesmo aplicar funções personalizadas."
   ]
  },
  {
   "cell_type": "code",
   "execution_count": 10,
   "id": "e1803a36",
   "metadata": {},
   "outputs": [
    {
     "name": "stderr",
     "output_type": "stream",
     "text": [
      "C:\\Users\\Kesley\\AppData\\Local\\Temp\\ipykernel_20872\\3503143580.py:2: FutureWarning: The provided callable <built-in function sum> is currently using SeriesGroupBy.sum. In a future version of pandas, the provided callable will be used directly. To keep current behavior pass the string \"sum\" instead.\n",
      "  df.groupby('raca').agg(\n"
     ]
    },
    {
     "data": {
      "text/html": [
       "<div>\n",
       "<style scoped>\n",
       "    .dataframe tbody tr th:only-of-type {\n",
       "        vertical-align: middle;\n",
       "    }\n",
       "\n",
       "    .dataframe tbody tr th {\n",
       "        vertical-align: top;\n",
       "    }\n",
       "\n",
       "    .dataframe thead th {\n",
       "        text-align: right;\n",
       "    }\n",
       "</style>\n",
       "<table border=\"1\" class=\"dataframe\">\n",
       "  <thead>\n",
       "    <tr style=\"text-align: right;\">\n",
       "      <th></th>\n",
       "      <th>total</th>\n",
       "      <th>soma_idades</th>\n",
       "    </tr>\n",
       "    <tr>\n",
       "      <th>raca</th>\n",
       "      <th></th>\n",
       "      <th></th>\n",
       "    </tr>\n",
       "  </thead>\n",
       "  <tbody>\n",
       "    <tr>\n",
       "      <th>Amarelo</th>\n",
       "      <td>2.506849</td>\n",
       "      <td>2378</td>\n",
       "    </tr>\n",
       "    <tr>\n",
       "      <th>Branco</th>\n",
       "      <td>2.405600</td>\n",
       "      <td>263720</td>\n",
       "    </tr>\n",
       "    <tr>\n",
       "      <th>Indígena</th>\n",
       "      <td>2.325000</td>\n",
       "      <td>2911</td>\n",
       "    </tr>\n",
       "    <tr>\n",
       "      <th>Negro</th>\n",
       "      <td>2.347436</td>\n",
       "      <td>29785</td>\n",
       "    </tr>\n",
       "    <tr>\n",
       "      <th>Pardo</th>\n",
       "      <td>2.566116</td>\n",
       "      <td>8984</td>\n",
       "    </tr>\n",
       "  </tbody>\n",
       "</table>\n",
       "</div>"
      ],
      "text/plain": [
       "             total  soma_idades\n",
       "raca                           \n",
       "Amarelo   2.506849         2378\n",
       "Branco    2.405600       263720\n",
       "Indígena  2.325000         2911\n",
       "Negro     2.347436        29785\n",
       "Pardo     2.566116         8984"
      ]
     },
     "execution_count": 10,
     "metadata": {},
     "output_type": "execute_result"
    },
    {
     "ename": "",
     "evalue": "",
     "output_type": "error",
     "traceback": [
      "\u001b[1;31mThe Kernel crashed while executing code in the current cell or a previous cell. \n",
      "\u001b[1;31mPlease review the code in the cell(s) to identify a possible cause of the failure. \n",
      "\u001b[1;31mClick <a href='https://aka.ms/vscodeJupyterKernelCrash'>here</a> for more info. \n",
      "\u001b[1;31mView Jupyter <a href='command:jupyter.viewOutput'>log</a> for further details."
     ]
    }
   ],
   "source": [
    "# Agrupar os dados por categoria e calcular a soma das vendas em cada categoria\n",
    "df.groupby('raca').agg(\n",
    "    total = ('qtde_filhos', 'mean'),\n",
    "    soma_idades = ('idade', sum),\n",
    "    moda_escolaridade = ('escolaridade')\n",
    ")"
   ]
  },
  {
   "cell_type": "code",
   "execution_count": null,
   "id": "d8086da8",
   "metadata": {},
   "outputs": [],
   "source": []
  },
  {
   "cell_type": "markdown",
   "id": "87937587",
   "metadata": {},
   "source": [
    "#### Método pivot_table\n",
    "***\n",
    "Permite criar uma tabela dinâmica a partir dos dados, onde as linhas representam uma categoria, as colunas representam outra categoria e os valores são agregados com base em uma terceira categoria.\n"
   ]
  },
  {
   "cell_type": "code",
   "execution_count": null,
   "id": "03046c88",
   "metadata": {},
   "outputs": [],
   "source": [
    "\n"
   ]
  },
  {
   "cell_type": "markdown",
   "id": "20d5eeff",
   "metadata": {},
   "source": [
    "#### Método info\n",
    "***\n",
    "Fornece um resumo conciso das informações básicas sobre um DataFrame, incluindo o número de linhas, o número de colunas, os nomes das colunas e os tipos de dados de cada coluna. Além disso, ele também mostra a quantidade de memória usada pelo DataFrame. Isso é particularmente útil quando estamos lidando com conjuntos de dados grandes e queremos ter uma visão geral rápida de sua estrutura."
   ]
  },
  {
   "cell_type": "code",
   "execution_count": null,
   "id": "9371c352",
   "metadata": {},
   "outputs": [],
   "source": []
  },
  {
   "cell_type": "markdown",
   "id": "18f2c29d",
   "metadata": {},
   "source": [
    "#### Método describe\n",
    "\n",
    "***\n",
    "Fornece um resumo estatístico das colunas numéricas de um DataFrame. Ele calcula várias estatísticas descritivas, como contagem, média, desvio padrão, valor mínimo, quartis e valor máximo. Essa função nos ajuda a ter uma visão rápida das principais informações estatísticas de cada coluna numérica, permitindo identificar tendências, distribuições e possíveis outliers nos dados."
   ]
  },
  {
   "cell_type": "code",
   "execution_count": null,
   "id": "4d693703",
   "metadata": {},
   "outputs": [],
   "source": []
  },
  {
   "cell_type": "code",
   "execution_count": null,
   "id": "505b6458",
   "metadata": {},
   "outputs": [],
   "source": []
  },
  {
   "cell_type": "markdown",
   "id": "2cf46e32",
   "metadata": {},
   "source": [
    "### Método Transpose\n",
    "\n",
    "***\n",
    "A função transpose pode ser útil em diversas situações, como quando queremos realizar operações em colunas específicas, quando precisamos ajustar a estrutura do DataFrame para uma determinada análise ou quando desejamos apresentar os dados de uma forma mais adequada para visualização.\n",
    "\n",
    "A função transpose do Pandas nos permite realizar a transposição de um DataFrame, trocando as linhas pelas colunas e as colunas pelas linhas. Essa função é útil quando queremos modificar a orientação dos dados para melhor adequá-los às nossas necessidades de análise e visualização."
   ]
  },
  {
   "cell_type": "code",
   "execution_count": null,
   "id": "dd600e5f",
   "metadata": {},
   "outputs": [],
   "source": []
  }
 ],
 "metadata": {
  "kernelspec": {
   "display_name": "pucminas",
   "language": "python",
   "name": "pucminas"
  },
  "language_info": {
   "codemirror_mode": {
    "name": "ipython",
    "version": 3
   },
   "file_extension": ".py",
   "mimetype": "text/x-python",
   "name": "python",
   "nbconvert_exporter": "python",
   "pygments_lexer": "ipython3",
   "version": "3.11.3"
  }
 },
 "nbformat": 4,
 "nbformat_minor": 5
}
