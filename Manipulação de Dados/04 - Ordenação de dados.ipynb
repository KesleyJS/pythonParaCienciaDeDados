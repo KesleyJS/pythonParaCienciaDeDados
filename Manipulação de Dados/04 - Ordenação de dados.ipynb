{
 "cells": [
  {
   "cell_type": "markdown",
   "id": "f3f2076e",
   "metadata": {},
   "source": [
    "# Ordenação de dados\n",
    "***\n",
    "\n",
    "A ordenação de dados é uma etapa fundamental na análise de dados, pois permite organizar as informações de forma estruturada e facilitar a compreensão dos padrões, tendências e insights presentes nos dados. A ordenação é particularmente útil quando lidamos com conjuntos de dados grandes, nos quais a visualização e interpretação das informações podem se tornar mais desafiadoras sem uma ordem adequada.\n",
    "\n",
    "Existem várias razões pelas quais a ordenação é importante na análise de dados:\n",
    "\n",
    "<input type=\"checkbox\" checked disabled> **Identificação de padrões:** identifica facilmente padrões crescentes, decrescentes ou repetitivos. Esses padrões podem fornecer informações valiosas sobre o comportamento dos dados e ajudar a identificar tendências ou anomalias.\n",
    "\n",
    "<input type=\"checkbox\" checked disabled> **Análise comparativa:** facilita a comparação de diferentes elementos dos dados. Por exemplo, ao ordenar uma coluna de valores de vendas, podemos identificar os produtos mais vendidos ou os clientes com maior volume de compras.\n",
    "\n",
    "<input type=\"checkbox\" checked disabled> **Facilidade de busca:** Com os dados organizados, é mais fácil localizar informações específicas. Ao realizar buscas ou consultas em um conjunto de dados ordenado, podemos encontrar rapidamente elementos específicos, como o valor máximo, mínimo ou um intervalo específico.\n",
    "\n",
    "<input type=\"checkbox\" checked disabled> **Visualização mais clara:** A ordenação dos dados pode tornar a visualização mais clara e compreensível. Gráficos e tabelas podem se beneficiar de dados ordenados, fornecendo uma representação visual mais intuitiva e facilitando a interpretação dos resultados. A ordenação dos dados pode tornar a visualização mais clara e compreensível. Gráficos e tabelas podem se beneficiar de dados ordenados, fornecendo uma representação visual mais intuitiva e facilitando a interpretação dos resultados."
   ]
  },
  {
   "cell_type": "markdown",
   "id": "6072fe86",
   "metadata": {},
   "source": [
    "#### Importando as Bibliotecas\n"
   ]
  },
  {
   "cell_type": "code",
   "execution_count": 2,
   "id": "f42670ce",
   "metadata": {},
   "outputs": [],
   "source": [
    "import pandas as pd"
   ]
  },
  {
   "cell_type": "markdown",
   "id": "be47e44e",
   "metadata": {},
   "source": [
    "#### Coletando Dados de Perfil\n",
    "***"
   ]
  },
  {
   "cell_type": "code",
   "execution_count": 4,
   "id": "ab54a77d",
   "metadata": {},
   "outputs": [
    {
     "ename": "SyntaxError",
     "evalue": "invalid syntax. Perhaps you forgot a comma? (3271437515.py, line 1)",
     "output_type": "error",
     "traceback": [
      "\u001b[1;36m  Cell \u001b[1;32mIn[4], line 1\u001b[1;36m\u001b[0m\n\u001b[1;33m    df = pd.read_csv('./datasets/perfil_clientes.csv' sep=';')\u001b[0m\n\u001b[1;37m                     ^\u001b[0m\n\u001b[1;31mSyntaxError\u001b[0m\u001b[1;31m:\u001b[0m invalid syntax. Perhaps you forgot a comma?\n"
     ]
    },
    {
     "ename": "",
     "evalue": "",
     "output_type": "error",
     "traceback": [
      "\u001b[1;31mThe Kernel crashed while executing code in the current cell or a previous cell. \n",
      "\u001b[1;31mPlease review the code in the cell(s) to identify a possible cause of the failure. \n",
      "\u001b[1;31mClick <a href='https://aka.ms/vscodeJupyterKernelCrash'>here</a> for more info. \n",
      "\u001b[1;31mView Jupyter <a href='command:jupyter.viewOutput'>log</a> for further details."
     ]
    }
   ],
   "source": [
    "df = pd.read_csv('./datasets/perfil_clientes.csv' sep=';')"
   ]
  },
  {
   "cell_type": "markdown",
   "id": "6c326736",
   "metadata": {},
   "source": [
    "#### Método sort_values\n",
    "***\n",
    "Este método permite ordenar um DataFrame ou uma Series com base nos valores de uma ou mais colunas. É possível especificar a ordem ascendente ou descendente e definir colunas secundárias para a ordenação."
   ]
  },
  {
   "cell_type": "code",
   "execution_count": null,
   "id": "01f887f7",
   "metadata": {},
   "outputs": [],
   "source": [
    "df."
   ]
  },
  {
   "cell_type": "code",
   "execution_count": null,
   "id": "e1803a36",
   "metadata": {},
   "outputs": [],
   "source": []
  },
  {
   "cell_type": "markdown",
   "id": "543a68d5",
   "metadata": {},
   "source": [
    "#### Ordenação por Múltiplos Critérios\n",
    "***"
   ]
  },
  {
   "cell_type": "code",
   "execution_count": null,
   "id": "9f9b031d",
   "metadata": {},
   "outputs": [],
   "source": []
  },
  {
   "cell_type": "code",
   "execution_count": null,
   "id": "4f3cc032",
   "metadata": {},
   "outputs": [],
   "source": []
  },
  {
   "cell_type": "markdown",
   "id": "87937587",
   "metadata": {},
   "source": [
    "### Método sort_index\n",
    "***\n",
    "Este método permite ordenar um DataFrame ou uma Series com base nos índices. A ordenação é feita de forma ascendente por padrão.\n"
   ]
  },
  {
   "cell_type": "code",
   "execution_count": null,
   "id": "03046c88",
   "metadata": {},
   "outputs": [],
   "source": []
  },
  {
   "cell_type": "code",
   "execution_count": null,
   "id": "e21752d6",
   "metadata": {},
   "outputs": [],
   "source": []
  }
 ],
 "metadata": {
  "kernelspec": {
   "display_name": "pucminas",
   "language": "python",
   "name": "pucminas"
  },
  "language_info": {
   "codemirror_mode": {
    "name": "ipython",
    "version": 3
   },
   "file_extension": ".py",
   "mimetype": "text/x-python",
   "name": "python",
   "nbconvert_exporter": "python",
   "pygments_lexer": "ipython3",
   "version": "3.11.3"
  }
 },
 "nbformat": 4,
 "nbformat_minor": 5
}
