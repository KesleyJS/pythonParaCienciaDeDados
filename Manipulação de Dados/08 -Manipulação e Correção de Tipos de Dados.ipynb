{
 "cells": [
  {
   "cell_type": "markdown",
   "id": "f3f2076e",
   "metadata": {},
   "source": [
    "#### Manipulação e Correção de Tipos de Dados\n",
    "***\n",
    "\n",
    "Um dos aspectos fundamentais no processamento de dados é garantir que os tipos de dados estejam corretos e adequados para as operações que serão realizadas. Uma má interpretação dos tipos de dados pode levar a resultados imprecisos ou inconsistentes em análises e modelos de dados.\n",
    "\n",
    "Uma das principais razões pelas quais a manipulação e correção de tipos de dados é importante é porque diferentes tipos de dados têm comportamentos e propriedades específicas. Por exemplo, os números inteiros são tratados de forma diferente dos números de ponto flutuante, e as datas e horários têm suas próprias peculiaridades de manipulação e cálculo. Ao garantir que os tipos de dados sejam corretamente interpretados, podemos realizar operações matemáticas, filtros e comparações com precisão."
   ]
  },
  {
   "cell_type": "markdown",
   "id": "6072fe86",
   "metadata": {},
   "source": [
    "#### Importando as Bibliotecas\n"
   ]
  },
  {
   "cell_type": "code",
   "execution_count": 1,
   "id": "f42670ce",
   "metadata": {},
   "outputs": [],
   "source": [
    "import pandas as pd"
   ]
  },
  {
   "cell_type": "markdown",
   "id": "0faf0b14",
   "metadata": {},
   "source": [
    "#### Coletando Dados de Perfil\n",
    "***"
   ]
  },
  {
   "cell_type": "code",
   "execution_count": 6,
   "id": "f03bc5b9",
   "metadata": {},
   "outputs": [
    {
     "data": {
      "text/html": [
       "<div>\n",
       "<style scoped>\n",
       "    .dataframe tbody tr th:only-of-type {\n",
       "        vertical-align: middle;\n",
       "    }\n",
       "\n",
       "    .dataframe tbody tr th {\n",
       "        vertical-align: top;\n",
       "    }\n",
       "\n",
       "    .dataframe thead th {\n",
       "        text-align: right;\n",
       "    }\n",
       "</style>\n",
       "<table border=\"1\" class=\"dataframe\">\n",
       "  <thead>\n",
       "    <tr style=\"text-align: right;\">\n",
       "      <th></th>\n",
       "      <th>idade</th>\n",
       "      <th>classe_trabalho</th>\n",
       "      <th>escolaridade</th>\n",
       "      <th>anos_estudo</th>\n",
       "      <th>estado_civil</th>\n",
       "      <th>raca</th>\n",
       "      <th>sexo</th>\n",
       "      <th>UF</th>\n",
       "      <th>região</th>\n",
       "      <th>qtde_filhos</th>\n",
       "      <th>salario</th>\n",
       "    </tr>\n",
       "  </thead>\n",
       "  <tbody>\n",
       "    <tr>\n",
       "      <th>0</th>\n",
       "      <td>39</td>\n",
       "      <td>Servidor Público</td>\n",
       "      <td>Ensino Médio Completo</td>\n",
       "      <td>13</td>\n",
       "      <td>Solteiro</td>\n",
       "      <td>Branco</td>\n",
       "      <td>Masculino</td>\n",
       "      <td>RO</td>\n",
       "      <td>Norte</td>\n",
       "      <td>2.0</td>\n",
       "      <td>4754,50</td>\n",
       "    </tr>\n",
       "    <tr>\n",
       "      <th>1</th>\n",
       "      <td>50</td>\n",
       "      <td>Autônomo</td>\n",
       "      <td>Superior Incompleto</td>\n",
       "      <td>13</td>\n",
       "      <td>Casado</td>\n",
       "      <td>Branco</td>\n",
       "      <td>Masculino</td>\n",
       "      <td>AC</td>\n",
       "      <td>Norte</td>\n",
       "      <td>1.0</td>\n",
       "      <td>3923</td>\n",
       "    </tr>\n",
       "    <tr>\n",
       "      <th>2</th>\n",
       "      <td>38</td>\n",
       "      <td>Funcionário Setor Privado</td>\n",
       "      <td>Ensino Médio Incompleto</td>\n",
       "      <td>9</td>\n",
       "      <td>Divorciado</td>\n",
       "      <td>Branco</td>\n",
       "      <td>Masculino</td>\n",
       "      <td>AM</td>\n",
       "      <td>Norte</td>\n",
       "      <td>0.0</td>\n",
       "      <td>1100,50</td>\n",
       "    </tr>\n",
       "    <tr>\n",
       "      <th>3</th>\n",
       "      <td>53</td>\n",
       "      <td>Funcionário Setor Privado</td>\n",
       "      <td>Ensino Médio Incompleto</td>\n",
       "      <td>7</td>\n",
       "      <td>Casado</td>\n",
       "      <td>Negro</td>\n",
       "      <td>Masculino</td>\n",
       "      <td>RR</td>\n",
       "      <td>Norte</td>\n",
       "      <td>1.0</td>\n",
       "      <td>1100</td>\n",
       "    </tr>\n",
       "    <tr>\n",
       "      <th>4</th>\n",
       "      <td>28</td>\n",
       "      <td>Funcionário Setor Privado</td>\n",
       "      <td>Ensino Médio Completo</td>\n",
       "      <td>13</td>\n",
       "      <td>Casado</td>\n",
       "      <td>Negro</td>\n",
       "      <td>Feminino</td>\n",
       "      <td>PA</td>\n",
       "      <td>Norte</td>\n",
       "      <td>0.0</td>\n",
       "      <td>3430</td>\n",
       "    </tr>\n",
       "    <tr>\n",
       "      <th>...</th>\n",
       "      <td>...</td>\n",
       "      <td>...</td>\n",
       "      <td>...</td>\n",
       "      <td>...</td>\n",
       "      <td>...</td>\n",
       "      <td>...</td>\n",
       "      <td>...</td>\n",
       "      <td>...</td>\n",
       "      <td>...</td>\n",
       "      <td>...</td>\n",
       "      <td>...</td>\n",
       "    </tr>\n",
       "    <tr>\n",
       "      <th>7994</th>\n",
       "      <td>23</td>\n",
       "      <td>Funcionário Setor Privado</td>\n",
       "      <td>Ensino Médio Completo</td>\n",
       "      <td>10</td>\n",
       "      <td>Casado</td>\n",
       "      <td>Negro</td>\n",
       "      <td>Masculino</td>\n",
       "      <td>AL</td>\n",
       "      <td>Nordeste</td>\n",
       "      <td>3.0</td>\n",
       "      <td>2856</td>\n",
       "    </tr>\n",
       "    <tr>\n",
       "      <th>7995</th>\n",
       "      <td>19</td>\n",
       "      <td>Funcionário Setor Privado</td>\n",
       "      <td>Ensino Médio Incompleto</td>\n",
       "      <td>9</td>\n",
       "      <td>Solteiro</td>\n",
       "      <td>Branco</td>\n",
       "      <td>Feminino</td>\n",
       "      <td>SE</td>\n",
       "      <td>Nordeste</td>\n",
       "      <td>1.0</td>\n",
       "      <td>1100</td>\n",
       "    </tr>\n",
       "    <tr>\n",
       "      <th>7996</th>\n",
       "      <td>44</td>\n",
       "      <td>NaN</td>\n",
       "      <td>Ensino Médio Completo</td>\n",
       "      <td>10</td>\n",
       "      <td>Casado</td>\n",
       "      <td>Branco</td>\n",
       "      <td>Masculino</td>\n",
       "      <td>BA</td>\n",
       "      <td>Nordeste</td>\n",
       "      <td>0.0</td>\n",
       "      <td>3729</td>\n",
       "    </tr>\n",
       "    <tr>\n",
       "      <th>7997</th>\n",
       "      <td>20</td>\n",
       "      <td>Funcionário Setor Privado</td>\n",
       "      <td>Ensino Médio Incompleto</td>\n",
       "      <td>9</td>\n",
       "      <td>Solteiro</td>\n",
       "      <td>Negro</td>\n",
       "      <td>Masculino</td>\n",
       "      <td>MG</td>\n",
       "      <td>Sudeste</td>\n",
       "      <td>0.0</td>\n",
       "      <td>1100</td>\n",
       "    </tr>\n",
       "    <tr>\n",
       "      <th>7998</th>\n",
       "      <td>41</td>\n",
       "      <td>Funcionário Setor Privado</td>\n",
       "      <td>Ensino Médio Completo</td>\n",
       "      <td>13</td>\n",
       "      <td>Casado</td>\n",
       "      <td>Branco</td>\n",
       "      <td>Masculino</td>\n",
       "      <td>AP</td>\n",
       "      <td>Norte</td>\n",
       "      <td>1.0</td>\n",
       "      <td>2579</td>\n",
       "    </tr>\n",
       "  </tbody>\n",
       "</table>\n",
       "<p>7999 rows × 11 columns</p>\n",
       "</div>"
      ],
      "text/plain": [
       "      idade            classe_trabalho             escolaridade  anos_estudo  \\\n",
       "0        39           Servidor Público    Ensino Médio Completo           13   \n",
       "1        50                   Autônomo      Superior Incompleto           13   \n",
       "2        38  Funcionário Setor Privado  Ensino Médio Incompleto            9   \n",
       "3        53  Funcionário Setor Privado  Ensino Médio Incompleto            7   \n",
       "4        28  Funcionário Setor Privado    Ensino Médio Completo           13   \n",
       "...     ...                        ...                      ...          ...   \n",
       "7994     23  Funcionário Setor Privado    Ensino Médio Completo           10   \n",
       "7995     19  Funcionário Setor Privado  Ensino Médio Incompleto            9   \n",
       "7996     44                        NaN    Ensino Médio Completo           10   \n",
       "7997     20  Funcionário Setor Privado  Ensino Médio Incompleto            9   \n",
       "7998     41  Funcionário Setor Privado    Ensino Médio Completo           13   \n",
       "\n",
       "     estado_civil    raca       sexo  UF    região  qtde_filhos  salario  \n",
       "0        Solteiro  Branco  Masculino  RO     Norte          2.0  4754,50  \n",
       "1          Casado  Branco  Masculino  AC     Norte          1.0     3923  \n",
       "2      Divorciado  Branco  Masculino  AM     Norte          0.0  1100,50  \n",
       "3          Casado   Negro  Masculino  RR     Norte          1.0     1100  \n",
       "4          Casado   Negro   Feminino  PA     Norte          0.0     3430  \n",
       "...           ...     ...        ...  ..       ...          ...      ...  \n",
       "7994       Casado   Negro  Masculino  AL  Nordeste          3.0     2856  \n",
       "7995     Solteiro  Branco   Feminino  SE  Nordeste          1.0     1100  \n",
       "7996       Casado  Branco  Masculino  BA  Nordeste          0.0     3729  \n",
       "7997     Solteiro   Negro  Masculino  MG   Sudeste          0.0     1100  \n",
       "7998       Casado  Branco  Masculino  AP     Norte          1.0     2579  \n",
       "\n",
       "[7999 rows x 11 columns]"
      ]
     },
     "execution_count": 6,
     "metadata": {},
     "output_type": "execute_result"
    }
   ],
   "source": [
    "df = pd.read_csv('./datasets/perfil_clientes.csv', sep=';')\n",
    "df"
   ]
  },
  {
   "cell_type": "code",
   "execution_count": 8,
   "id": "bbebf398",
   "metadata": {},
   "outputs": [
    {
     "name": "stdout",
     "output_type": "stream",
     "text": [
      "<class 'pandas.core.frame.DataFrame'>\n",
      "RangeIndex: 7999 entries, 0 to 7998\n",
      "Data columns (total 11 columns):\n",
      " #   Column           Non-Null Count  Dtype  \n",
      "---  ------           --------------  -----  \n",
      " 0   idade            7999 non-null   int64  \n",
      " 1   classe_trabalho  7612 non-null   object \n",
      " 2   escolaridade     7999 non-null   object \n",
      " 3   anos_estudo      7999 non-null   int64  \n",
      " 4   estado_civil     7999 non-null   object \n",
      " 5   raca             7999 non-null   object \n",
      " 6   sexo             7999 non-null   object \n",
      " 7   UF               7999 non-null   object \n",
      " 8   região           7999 non-null   object \n",
      " 9   qtde_filhos      7997 non-null   float64\n",
      " 10  salario          7999 non-null   object \n",
      "dtypes: float64(1), int64(2), object(8)\n",
      "memory usage: 687.5+ KB\n"
     ]
    }
   ],
   "source": [
    "df.info()"
   ]
  },
  {
   "cell_type": "code",
   "execution_count": 9,
   "id": "709dc39d",
   "metadata": {},
   "outputs": [
    {
     "data": {
      "text/html": [
       "<div>\n",
       "<style scoped>\n",
       "    .dataframe tbody tr th:only-of-type {\n",
       "        vertical-align: middle;\n",
       "    }\n",
       "\n",
       "    .dataframe tbody tr th {\n",
       "        vertical-align: top;\n",
       "    }\n",
       "\n",
       "    .dataframe thead th {\n",
       "        text-align: right;\n",
       "    }\n",
       "</style>\n",
       "<table border=\"1\" class=\"dataframe\">\n",
       "  <thead>\n",
       "    <tr style=\"text-align: right;\">\n",
       "      <th></th>\n",
       "      <th>idade</th>\n",
       "      <th>anos_estudo</th>\n",
       "      <th>qtde_filhos</th>\n",
       "    </tr>\n",
       "  </thead>\n",
       "  <tbody>\n",
       "    <tr>\n",
       "      <th>count</th>\n",
       "      <td>7999.000000</td>\n",
       "      <td>7999.000000</td>\n",
       "      <td>7997.000000</td>\n",
       "    </tr>\n",
       "    <tr>\n",
       "      <th>mean</th>\n",
       "      <td>38.477060</td>\n",
       "      <td>10.067633</td>\n",
       "      <td>2.404902</td>\n",
       "    </tr>\n",
       "    <tr>\n",
       "      <th>std</th>\n",
       "      <td>13.568667</td>\n",
       "      <td>2.537797</td>\n",
       "      <td>1.704059</td>\n",
       "    </tr>\n",
       "    <tr>\n",
       "      <th>min</th>\n",
       "      <td>17.000000</td>\n",
       "      <td>1.000000</td>\n",
       "      <td>0.000000</td>\n",
       "    </tr>\n",
       "    <tr>\n",
       "      <th>25%</th>\n",
       "      <td>28.000000</td>\n",
       "      <td>9.000000</td>\n",
       "      <td>1.000000</td>\n",
       "    </tr>\n",
       "    <tr>\n",
       "      <th>50%</th>\n",
       "      <td>37.000000</td>\n",
       "      <td>10.000000</td>\n",
       "      <td>2.000000</td>\n",
       "    </tr>\n",
       "    <tr>\n",
       "      <th>75%</th>\n",
       "      <td>47.000000</td>\n",
       "      <td>12.000000</td>\n",
       "      <td>4.000000</td>\n",
       "    </tr>\n",
       "    <tr>\n",
       "      <th>max</th>\n",
       "      <td>90.000000</td>\n",
       "      <td>16.000000</td>\n",
       "      <td>5.000000</td>\n",
       "    </tr>\n",
       "  </tbody>\n",
       "</table>\n",
       "</div>"
      ],
      "text/plain": [
       "             idade  anos_estudo  qtde_filhos\n",
       "count  7999.000000  7999.000000  7997.000000\n",
       "mean     38.477060    10.067633     2.404902\n",
       "std      13.568667     2.537797     1.704059\n",
       "min      17.000000     1.000000     0.000000\n",
       "25%      28.000000     9.000000     1.000000\n",
       "50%      37.000000    10.000000     2.000000\n",
       "75%      47.000000    12.000000     4.000000\n",
       "max      90.000000    16.000000     5.000000"
      ]
     },
     "execution_count": 9,
     "metadata": {},
     "output_type": "execute_result"
    }
   ],
   "source": [
    "df.describe()"
   ]
  },
  {
   "cell_type": "markdown",
   "id": "6dc68a44",
   "metadata": {},
   "source": [
    "#### Entendimento Inicial dos Dados\n",
    "***\n",
    "É necessário analisar os dados para entender a estrutura, identificar variáveis, e verificar possíveis problemas."
   ]
  },
  {
   "cell_type": "code",
   "execution_count": 11,
   "id": "650b4570",
   "metadata": {},
   "outputs": [
    {
     "data": {
      "text/plain": [
       "0       4754.50\n",
       "1          3923\n",
       "2       1100.50\n",
       "3          1100\n",
       "4          3430\n",
       "         ...   \n",
       "7994       2856\n",
       "7995       1100\n",
       "7996       3729\n",
       "7997       1100\n",
       "7998       2579\n",
       "Name: salario, Length: 7999, dtype: object"
      ]
     },
     "execution_count": 11,
     "metadata": {},
     "output_type": "execute_result"
    }
   ],
   "source": [
    "df['salario'].str.replace(',', '.')"
   ]
  },
  {
   "cell_type": "code",
   "execution_count": 16,
   "id": "1aee88bb",
   "metadata": {},
   "outputs": [
    {
     "data": {
      "text/plain": [
       "0       4754.50\n",
       "1          3923\n",
       "2       1100.50\n",
       "3          1100\n",
       "4          3430\n",
       "         ...   \n",
       "7994       2856\n",
       "7995       1100\n",
       "7996       3729\n",
       "7997       1100\n",
       "7998       2579\n",
       "Name: salario, Length: 7999, dtype: object"
      ]
     },
     "execution_count": 16,
     "metadata": {},
     "output_type": "execute_result"
    }
   ],
   "source": [
    "df['salario'] = df['salario'].str.replace(',', '.')\n",
    "df['salario']"
   ]
  },
  {
   "cell_type": "code",
   "execution_count": 19,
   "id": "4e042723",
   "metadata": {},
   "outputs": [
    {
     "name": "stdout",
     "output_type": "stream",
     "text": [
      "<class 'pandas.core.frame.DataFrame'>\n",
      "RangeIndex: 7999 entries, 0 to 7998\n",
      "Data columns (total 11 columns):\n",
      " #   Column           Non-Null Count  Dtype  \n",
      "---  ------           --------------  -----  \n",
      " 0   idade            7999 non-null   int64  \n",
      " 1   classe_trabalho  7612 non-null   object \n",
      " 2   escolaridade     7999 non-null   object \n",
      " 3   anos_estudo      7999 non-null   int64  \n",
      " 4   estado_civil     7999 non-null   object \n",
      " 5   raca             7999 non-null   object \n",
      " 6   sexo             7999 non-null   object \n",
      " 7   UF               7999 non-null   object \n",
      " 8   região           7999 non-null   object \n",
      " 9   qtde_filhos      7997 non-null   float64\n",
      " 10  salario          7999 non-null   float64\n",
      "dtypes: float64(2), int64(2), object(7)\n",
      "memory usage: 687.5+ KB\n"
     ]
    }
   ],
   "source": [
    "df['salario'] = df['salario'].astype('float')\n",
    "df.info()"
   ]
  },
  {
   "cell_type": "code",
   "execution_count": 20,
   "id": "d7d1cba3",
   "metadata": {},
   "outputs": [
    {
     "ename": "IntCastingNaNError",
     "evalue": "Cannot convert non-finite values (NA or inf) to integer",
     "output_type": "error",
     "traceback": [
      "\u001b[1;31m---------------------------------------------------------------------------\u001b[0m",
      "\u001b[1;31mIntCastingNaNError\u001b[0m                        Traceback (most recent call last)",
      "Cell \u001b[1;32mIn[20], line 1\u001b[0m\n\u001b[1;32m----> 1\u001b[0m f[\u001b[38;5;124m'\u001b[39m\u001b[38;5;124mqtde_filhos\u001b[39m\u001b[38;5;124m'\u001b[39m] \u001b[38;5;241m=\u001b[39m \u001b[43mdf\u001b[49m\u001b[43m[\u001b[49m\u001b[38;5;124;43m'\u001b[39;49m\u001b[38;5;124;43mqtde_filhos\u001b[39;49m\u001b[38;5;124;43m'\u001b[39;49m\u001b[43m]\u001b[49m\u001b[38;5;241;43m.\u001b[39;49m\u001b[43mastype\u001b[49m\u001b[43m(\u001b[49m\u001b[38;5;124;43m'\u001b[39;49m\u001b[38;5;124;43mint\u001b[39;49m\u001b[38;5;124;43m'\u001b[39;49m\u001b[43m)\u001b[49m\n",
      "File \u001b[1;32mc:\\Users\\Kesley\\AppData\\Local\\Programs\\Python\\Python311\\Lib\\site-packages\\pandas\\core\\generic.py:6643\u001b[0m, in \u001b[0;36mNDFrame.astype\u001b[1;34m(self, dtype, copy, errors)\u001b[0m\n\u001b[0;32m   6637\u001b[0m     results \u001b[38;5;241m=\u001b[39m [\n\u001b[0;32m   6638\u001b[0m         ser\u001b[38;5;241m.\u001b[39mastype(dtype, copy\u001b[38;5;241m=\u001b[39mcopy, errors\u001b[38;5;241m=\u001b[39merrors) \u001b[38;5;28;01mfor\u001b[39;00m _, ser \u001b[38;5;129;01min\u001b[39;00m \u001b[38;5;28mself\u001b[39m\u001b[38;5;241m.\u001b[39mitems()\n\u001b[0;32m   6639\u001b[0m     ]\n\u001b[0;32m   6641\u001b[0m \u001b[38;5;28;01melse\u001b[39;00m:\n\u001b[0;32m   6642\u001b[0m     \u001b[38;5;66;03m# else, only a single dtype is given\u001b[39;00m\n\u001b[1;32m-> 6643\u001b[0m     new_data \u001b[38;5;241m=\u001b[39m \u001b[38;5;28;43mself\u001b[39;49m\u001b[38;5;241;43m.\u001b[39;49m\u001b[43m_mgr\u001b[49m\u001b[38;5;241;43m.\u001b[39;49m\u001b[43mastype\u001b[49m\u001b[43m(\u001b[49m\u001b[43mdtype\u001b[49m\u001b[38;5;241;43m=\u001b[39;49m\u001b[43mdtype\u001b[49m\u001b[43m,\u001b[49m\u001b[43m \u001b[49m\u001b[43mcopy\u001b[49m\u001b[38;5;241;43m=\u001b[39;49m\u001b[43mcopy\u001b[49m\u001b[43m,\u001b[49m\u001b[43m \u001b[49m\u001b[43merrors\u001b[49m\u001b[38;5;241;43m=\u001b[39;49m\u001b[43merrors\u001b[49m\u001b[43m)\u001b[49m\n\u001b[0;32m   6644\u001b[0m     res \u001b[38;5;241m=\u001b[39m \u001b[38;5;28mself\u001b[39m\u001b[38;5;241m.\u001b[39m_constructor_from_mgr(new_data, axes\u001b[38;5;241m=\u001b[39mnew_data\u001b[38;5;241m.\u001b[39maxes)\n\u001b[0;32m   6645\u001b[0m     \u001b[38;5;28;01mreturn\u001b[39;00m res\u001b[38;5;241m.\u001b[39m__finalize__(\u001b[38;5;28mself\u001b[39m, method\u001b[38;5;241m=\u001b[39m\u001b[38;5;124m\"\u001b[39m\u001b[38;5;124mastype\u001b[39m\u001b[38;5;124m\"\u001b[39m)\n",
      "File \u001b[1;32mc:\\Users\\Kesley\\AppData\\Local\\Programs\\Python\\Python311\\Lib\\site-packages\\pandas\\core\\internals\\managers.py:430\u001b[0m, in \u001b[0;36mBaseBlockManager.astype\u001b[1;34m(self, dtype, copy, errors)\u001b[0m\n\u001b[0;32m    427\u001b[0m \u001b[38;5;28;01melif\u001b[39;00m using_copy_on_write():\n\u001b[0;32m    428\u001b[0m     copy \u001b[38;5;241m=\u001b[39m \u001b[38;5;28;01mFalse\u001b[39;00m\n\u001b[1;32m--> 430\u001b[0m \u001b[38;5;28;01mreturn\u001b[39;00m \u001b[38;5;28;43mself\u001b[39;49m\u001b[38;5;241;43m.\u001b[39;49m\u001b[43mapply\u001b[49m\u001b[43m(\u001b[49m\n\u001b[0;32m    431\u001b[0m \u001b[43m    \u001b[49m\u001b[38;5;124;43m\"\u001b[39;49m\u001b[38;5;124;43mastype\u001b[39;49m\u001b[38;5;124;43m\"\u001b[39;49m\u001b[43m,\u001b[49m\n\u001b[0;32m    432\u001b[0m \u001b[43m    \u001b[49m\u001b[43mdtype\u001b[49m\u001b[38;5;241;43m=\u001b[39;49m\u001b[43mdtype\u001b[49m\u001b[43m,\u001b[49m\n\u001b[0;32m    433\u001b[0m \u001b[43m    \u001b[49m\u001b[43mcopy\u001b[49m\u001b[38;5;241;43m=\u001b[39;49m\u001b[43mcopy\u001b[49m\u001b[43m,\u001b[49m\n\u001b[0;32m    434\u001b[0m \u001b[43m    \u001b[49m\u001b[43merrors\u001b[49m\u001b[38;5;241;43m=\u001b[39;49m\u001b[43merrors\u001b[49m\u001b[43m,\u001b[49m\n\u001b[0;32m    435\u001b[0m \u001b[43m    \u001b[49m\u001b[43musing_cow\u001b[49m\u001b[38;5;241;43m=\u001b[39;49m\u001b[43musing_copy_on_write\u001b[49m\u001b[43m(\u001b[49m\u001b[43m)\u001b[49m\u001b[43m,\u001b[49m\n\u001b[0;32m    436\u001b[0m \u001b[43m\u001b[49m\u001b[43m)\u001b[49m\n",
      "File \u001b[1;32mc:\\Users\\Kesley\\AppData\\Local\\Programs\\Python\\Python311\\Lib\\site-packages\\pandas\\core\\internals\\managers.py:363\u001b[0m, in \u001b[0;36mBaseBlockManager.apply\u001b[1;34m(self, f, align_keys, **kwargs)\u001b[0m\n\u001b[0;32m    361\u001b[0m         applied \u001b[38;5;241m=\u001b[39m b\u001b[38;5;241m.\u001b[39mapply(f, \u001b[38;5;241m*\u001b[39m\u001b[38;5;241m*\u001b[39mkwargs)\n\u001b[0;32m    362\u001b[0m     \u001b[38;5;28;01melse\u001b[39;00m:\n\u001b[1;32m--> 363\u001b[0m         applied \u001b[38;5;241m=\u001b[39m \u001b[38;5;28;43mgetattr\u001b[39;49m\u001b[43m(\u001b[49m\u001b[43mb\u001b[49m\u001b[43m,\u001b[49m\u001b[43m \u001b[49m\u001b[43mf\u001b[49m\u001b[43m)\u001b[49m\u001b[43m(\u001b[49m\u001b[38;5;241;43m*\u001b[39;49m\u001b[38;5;241;43m*\u001b[39;49m\u001b[43mkwargs\u001b[49m\u001b[43m)\u001b[49m\n\u001b[0;32m    364\u001b[0m     result_blocks \u001b[38;5;241m=\u001b[39m extend_blocks(applied, result_blocks)\n\u001b[0;32m    366\u001b[0m out \u001b[38;5;241m=\u001b[39m \u001b[38;5;28mtype\u001b[39m(\u001b[38;5;28mself\u001b[39m)\u001b[38;5;241m.\u001b[39mfrom_blocks(result_blocks, \u001b[38;5;28mself\u001b[39m\u001b[38;5;241m.\u001b[39maxes)\n",
      "File \u001b[1;32mc:\\Users\\Kesley\\AppData\\Local\\Programs\\Python\\Python311\\Lib\\site-packages\\pandas\\core\\internals\\blocks.py:758\u001b[0m, in \u001b[0;36mBlock.astype\u001b[1;34m(self, dtype, copy, errors, using_cow, squeeze)\u001b[0m\n\u001b[0;32m    755\u001b[0m         \u001b[38;5;28;01mraise\u001b[39;00m \u001b[38;5;167;01mValueError\u001b[39;00m(\u001b[38;5;124m\"\u001b[39m\u001b[38;5;124mCan not squeeze with more than one column.\u001b[39m\u001b[38;5;124m\"\u001b[39m)\n\u001b[0;32m    756\u001b[0m     values \u001b[38;5;241m=\u001b[39m values[\u001b[38;5;241m0\u001b[39m, :]  \u001b[38;5;66;03m# type: ignore[call-overload]\u001b[39;00m\n\u001b[1;32m--> 758\u001b[0m new_values \u001b[38;5;241m=\u001b[39m \u001b[43mastype_array_safe\u001b[49m\u001b[43m(\u001b[49m\u001b[43mvalues\u001b[49m\u001b[43m,\u001b[49m\u001b[43m \u001b[49m\u001b[43mdtype\u001b[49m\u001b[43m,\u001b[49m\u001b[43m \u001b[49m\u001b[43mcopy\u001b[49m\u001b[38;5;241;43m=\u001b[39;49m\u001b[43mcopy\u001b[49m\u001b[43m,\u001b[49m\u001b[43m \u001b[49m\u001b[43merrors\u001b[49m\u001b[38;5;241;43m=\u001b[39;49m\u001b[43merrors\u001b[49m\u001b[43m)\u001b[49m\n\u001b[0;32m    760\u001b[0m new_values \u001b[38;5;241m=\u001b[39m maybe_coerce_values(new_values)\n\u001b[0;32m    762\u001b[0m refs \u001b[38;5;241m=\u001b[39m \u001b[38;5;28;01mNone\u001b[39;00m\n",
      "File \u001b[1;32mc:\\Users\\Kesley\\AppData\\Local\\Programs\\Python\\Python311\\Lib\\site-packages\\pandas\\core\\dtypes\\astype.py:237\u001b[0m, in \u001b[0;36mastype_array_safe\u001b[1;34m(values, dtype, copy, errors)\u001b[0m\n\u001b[0;32m    234\u001b[0m     dtype \u001b[38;5;241m=\u001b[39m dtype\u001b[38;5;241m.\u001b[39mnumpy_dtype\n\u001b[0;32m    236\u001b[0m \u001b[38;5;28;01mtry\u001b[39;00m:\n\u001b[1;32m--> 237\u001b[0m     new_values \u001b[38;5;241m=\u001b[39m \u001b[43mastype_array\u001b[49m\u001b[43m(\u001b[49m\u001b[43mvalues\u001b[49m\u001b[43m,\u001b[49m\u001b[43m \u001b[49m\u001b[43mdtype\u001b[49m\u001b[43m,\u001b[49m\u001b[43m \u001b[49m\u001b[43mcopy\u001b[49m\u001b[38;5;241;43m=\u001b[39;49m\u001b[43mcopy\u001b[49m\u001b[43m)\u001b[49m\n\u001b[0;32m    238\u001b[0m \u001b[38;5;28;01mexcept\u001b[39;00m (\u001b[38;5;167;01mValueError\u001b[39;00m, \u001b[38;5;167;01mTypeError\u001b[39;00m):\n\u001b[0;32m    239\u001b[0m     \u001b[38;5;66;03m# e.g. _astype_nansafe can fail on object-dtype of strings\u001b[39;00m\n\u001b[0;32m    240\u001b[0m     \u001b[38;5;66;03m#  trying to convert to float\u001b[39;00m\n\u001b[0;32m    241\u001b[0m     \u001b[38;5;28;01mif\u001b[39;00m errors \u001b[38;5;241m==\u001b[39m \u001b[38;5;124m\"\u001b[39m\u001b[38;5;124mignore\u001b[39m\u001b[38;5;124m\"\u001b[39m:\n",
      "File \u001b[1;32mc:\\Users\\Kesley\\AppData\\Local\\Programs\\Python\\Python311\\Lib\\site-packages\\pandas\\core\\dtypes\\astype.py:182\u001b[0m, in \u001b[0;36mastype_array\u001b[1;34m(values, dtype, copy)\u001b[0m\n\u001b[0;32m    179\u001b[0m     values \u001b[38;5;241m=\u001b[39m values\u001b[38;5;241m.\u001b[39mastype(dtype, copy\u001b[38;5;241m=\u001b[39mcopy)\n\u001b[0;32m    181\u001b[0m \u001b[38;5;28;01melse\u001b[39;00m:\n\u001b[1;32m--> 182\u001b[0m     values \u001b[38;5;241m=\u001b[39m \u001b[43m_astype_nansafe\u001b[49m\u001b[43m(\u001b[49m\u001b[43mvalues\u001b[49m\u001b[43m,\u001b[49m\u001b[43m \u001b[49m\u001b[43mdtype\u001b[49m\u001b[43m,\u001b[49m\u001b[43m \u001b[49m\u001b[43mcopy\u001b[49m\u001b[38;5;241;43m=\u001b[39;49m\u001b[43mcopy\u001b[49m\u001b[43m)\u001b[49m\n\u001b[0;32m    184\u001b[0m \u001b[38;5;66;03m# in pandas we don't store numpy str dtypes, so convert to object\u001b[39;00m\n\u001b[0;32m    185\u001b[0m \u001b[38;5;28;01mif\u001b[39;00m \u001b[38;5;28misinstance\u001b[39m(dtype, np\u001b[38;5;241m.\u001b[39mdtype) \u001b[38;5;129;01mand\u001b[39;00m \u001b[38;5;28missubclass\u001b[39m(values\u001b[38;5;241m.\u001b[39mdtype\u001b[38;5;241m.\u001b[39mtype, \u001b[38;5;28mstr\u001b[39m):\n",
      "File \u001b[1;32mc:\\Users\\Kesley\\AppData\\Local\\Programs\\Python\\Python311\\Lib\\site-packages\\pandas\\core\\dtypes\\astype.py:101\u001b[0m, in \u001b[0;36m_astype_nansafe\u001b[1;34m(arr, dtype, copy, skipna)\u001b[0m\n\u001b[0;32m     96\u001b[0m     \u001b[38;5;28;01mreturn\u001b[39;00m lib\u001b[38;5;241m.\u001b[39mensure_string_array(\n\u001b[0;32m     97\u001b[0m         arr, skipna\u001b[38;5;241m=\u001b[39mskipna, convert_na_value\u001b[38;5;241m=\u001b[39m\u001b[38;5;28;01mFalse\u001b[39;00m\n\u001b[0;32m     98\u001b[0m     )\u001b[38;5;241m.\u001b[39mreshape(shape)\n\u001b[0;32m    100\u001b[0m \u001b[38;5;28;01melif\u001b[39;00m np\u001b[38;5;241m.\u001b[39missubdtype(arr\u001b[38;5;241m.\u001b[39mdtype, np\u001b[38;5;241m.\u001b[39mfloating) \u001b[38;5;129;01mand\u001b[39;00m dtype\u001b[38;5;241m.\u001b[39mkind \u001b[38;5;129;01min\u001b[39;00m \u001b[38;5;124m\"\u001b[39m\u001b[38;5;124miu\u001b[39m\u001b[38;5;124m\"\u001b[39m:\n\u001b[1;32m--> 101\u001b[0m     \u001b[38;5;28;01mreturn\u001b[39;00m \u001b[43m_astype_float_to_int_nansafe\u001b[49m\u001b[43m(\u001b[49m\u001b[43marr\u001b[49m\u001b[43m,\u001b[49m\u001b[43m \u001b[49m\u001b[43mdtype\u001b[49m\u001b[43m,\u001b[49m\u001b[43m \u001b[49m\u001b[43mcopy\u001b[49m\u001b[43m)\u001b[49m\n\u001b[0;32m    103\u001b[0m \u001b[38;5;28;01melif\u001b[39;00m arr\u001b[38;5;241m.\u001b[39mdtype \u001b[38;5;241m==\u001b[39m \u001b[38;5;28mobject\u001b[39m:\n\u001b[0;32m    104\u001b[0m     \u001b[38;5;66;03m# if we have a datetime/timedelta array of objects\u001b[39;00m\n\u001b[0;32m    105\u001b[0m     \u001b[38;5;66;03m# then coerce to datetime64[ns] and use DatetimeArray.astype\u001b[39;00m\n\u001b[0;32m    107\u001b[0m     \u001b[38;5;28;01mif\u001b[39;00m lib\u001b[38;5;241m.\u001b[39mis_np_dtype(dtype, \u001b[38;5;124m\"\u001b[39m\u001b[38;5;124mM\u001b[39m\u001b[38;5;124m\"\u001b[39m):\n",
      "File \u001b[1;32mc:\\Users\\Kesley\\AppData\\Local\\Programs\\Python\\Python311\\Lib\\site-packages\\pandas\\core\\dtypes\\astype.py:145\u001b[0m, in \u001b[0;36m_astype_float_to_int_nansafe\u001b[1;34m(values, dtype, copy)\u001b[0m\n\u001b[0;32m    141\u001b[0m \u001b[38;5;250m\u001b[39m\u001b[38;5;124;03m\"\"\"\u001b[39;00m\n\u001b[0;32m    142\u001b[0m \u001b[38;5;124;03mastype with a check preventing converting NaN to an meaningless integer value.\u001b[39;00m\n\u001b[0;32m    143\u001b[0m \u001b[38;5;124;03m\"\"\"\u001b[39;00m\n\u001b[0;32m    144\u001b[0m \u001b[38;5;28;01mif\u001b[39;00m \u001b[38;5;129;01mnot\u001b[39;00m np\u001b[38;5;241m.\u001b[39misfinite(values)\u001b[38;5;241m.\u001b[39mall():\n\u001b[1;32m--> 145\u001b[0m     \u001b[38;5;28;01mraise\u001b[39;00m IntCastingNaNError(\n\u001b[0;32m    146\u001b[0m         \u001b[38;5;124m\"\u001b[39m\u001b[38;5;124mCannot convert non-finite values (NA or inf) to integer\u001b[39m\u001b[38;5;124m\"\u001b[39m\n\u001b[0;32m    147\u001b[0m     )\n\u001b[0;32m    148\u001b[0m \u001b[38;5;28;01mif\u001b[39;00m dtype\u001b[38;5;241m.\u001b[39mkind \u001b[38;5;241m==\u001b[39m \u001b[38;5;124m\"\u001b[39m\u001b[38;5;124mu\u001b[39m\u001b[38;5;124m\"\u001b[39m:\n\u001b[0;32m    149\u001b[0m     \u001b[38;5;66;03m# GH#45151\u001b[39;00m\n\u001b[0;32m    150\u001b[0m     \u001b[38;5;28;01mif\u001b[39;00m \u001b[38;5;129;01mnot\u001b[39;00m (values \u001b[38;5;241m>\u001b[39m\u001b[38;5;241m=\u001b[39m \u001b[38;5;241m0\u001b[39m)\u001b[38;5;241m.\u001b[39mall():\n",
      "\u001b[1;31mIntCastingNaNError\u001b[0m: Cannot convert non-finite values (NA or inf) to integer"
     ]
    }
   ],
   "source": [
    "\n",
    "df['qtde_filhos'] = df['qtde_filhos'].astype('int')"
   ]
  },
  {
   "cell_type": "code",
   "execution_count": null,
   "id": "3cba20a5",
   "metadata": {},
   "outputs": [],
   "source": []
  },
  {
   "cell_type": "markdown",
   "id": "0592d12b",
   "metadata": {},
   "source": [
    "#### Corrigindo Tipo de Dados\n",
    "***\n",
    "Dados incorretamente tipados podem levar a erros nas análises. É essencial garantir que cada coluna de dados tenha o tipo correto."
   ]
  },
  {
   "cell_type": "code",
   "execution_count": null,
   "id": "8aff1500",
   "metadata": {},
   "outputs": [],
   "source": []
  },
  {
   "cell_type": "code",
   "execution_count": null,
   "id": "c0ebde29",
   "metadata": {},
   "outputs": [],
   "source": []
  },
  {
   "cell_type": "code",
   "execution_count": null,
   "id": "be4a8f64",
   "metadata": {},
   "outputs": [],
   "source": []
  },
  {
   "cell_type": "code",
   "execution_count": null,
   "id": "f59805a6",
   "metadata": {},
   "outputs": [],
   "source": []
  },
  {
   "cell_type": "code",
   "execution_count": null,
   "id": "fcef5c5a",
   "metadata": {},
   "outputs": [],
   "source": []
  },
  {
   "cell_type": "code",
   "execution_count": null,
   "id": "97f57e8e",
   "metadata": {},
   "outputs": [],
   "source": []
  },
  {
   "cell_type": "markdown",
   "id": "d7aac2bb",
   "metadata": {},
   "source": [
    "#### Eliminação de Dados Duplicados\n",
    "***\n",
    "A presença de dados duplicados pode distorcer os resultados de análises e modelos. A eliminação de duplicatas é, portanto, uma etapa crucial."
   ]
  },
  {
   "cell_type": "code",
   "execution_count": 23,
   "id": "7e652d7b",
   "metadata": {},
   "outputs": [
    {
     "data": {
      "text/plain": [
       "66"
      ]
     },
     "execution_count": 23,
     "metadata": {},
     "output_type": "execute_result"
    }
   ],
   "source": [
    "filtro = df.duplicated()\n",
    "len(df[filtro])"
   ]
  },
  {
   "cell_type": "code",
   "execution_count": 24,
   "id": "63a71bd0",
   "metadata": {},
   "outputs": [
    {
     "data": {
      "text/plain": [
       "np.int64(66)"
      ]
     },
     "execution_count": 24,
     "metadata": {},
     "output_type": "execute_result"
    }
   ],
   "source": [
    "df.duplicated().sum()"
   ]
  },
  {
   "cell_type": "code",
   "execution_count": 26,
   "id": "329b1169",
   "metadata": {},
   "outputs": [],
   "source": [
    "df = df.drop_duplicates()"
   ]
  },
  {
   "cell_type": "code",
   "execution_count": 27,
   "id": "ff54e918",
   "metadata": {},
   "outputs": [
    {
     "data": {
      "text/plain": [
       "np.int64(0)"
      ]
     },
     "execution_count": 27,
     "metadata": {},
     "output_type": "execute_result"
    }
   ],
   "source": [
    "df.duplicated().sum()"
   ]
  },
  {
   "cell_type": "markdown",
   "id": "4bd76b8a",
   "metadata": {},
   "source": [
    "#### Correção de Dados Ausentes\n",
    "***\n",
    "Dados ausentes podem afetar a integridade das análises. A correção desses dados pode ser feita de várias formas, como preenchimento com valores médios, exclusão de registros ou interpolação."
   ]
  },
  {
   "cell_type": "code",
   "execution_count": 28,
   "id": "c44a0d1c",
   "metadata": {},
   "outputs": [
    {
     "data": {
      "text/plain": [
       "idade                0\n",
       "classe_trabalho    387\n",
       "escolaridade         0\n",
       "anos_estudo          0\n",
       "estado_civil         0\n",
       "raca                 0\n",
       "sexo                 0\n",
       "UF                   0\n",
       "região               0\n",
       "qtde_filhos          2\n",
       "salario              0\n",
       "dtype: int64"
      ]
     },
     "execution_count": 28,
     "metadata": {},
     "output_type": "execute_result"
    }
   ],
   "source": [
    "df.isna().sum()"
   ]
  },
  {
   "cell_type": "code",
   "execution_count": 35,
   "id": "4140186a",
   "metadata": {},
   "outputs": [
    {
     "data": {
      "text/html": [
       "<div>\n",
       "<style scoped>\n",
       "    .dataframe tbody tr th:only-of-type {\n",
       "        vertical-align: middle;\n",
       "    }\n",
       "\n",
       "    .dataframe tbody tr th {\n",
       "        vertical-align: top;\n",
       "    }\n",
       "\n",
       "    .dataframe thead th {\n",
       "        text-align: right;\n",
       "    }\n",
       "</style>\n",
       "<table border=\"1\" class=\"dataframe\">\n",
       "  <thead>\n",
       "    <tr style=\"text-align: right;\">\n",
       "      <th></th>\n",
       "      <th>idade</th>\n",
       "      <th>classe_trabalho</th>\n",
       "      <th>escolaridade</th>\n",
       "      <th>anos_estudo</th>\n",
       "      <th>estado_civil</th>\n",
       "      <th>raca</th>\n",
       "      <th>sexo</th>\n",
       "      <th>UF</th>\n",
       "      <th>região</th>\n",
       "      <th>qtde_filhos</th>\n",
       "      <th>salario</th>\n",
       "    </tr>\n",
       "  </thead>\n",
       "  <tbody>\n",
       "    <tr>\n",
       "      <th>12</th>\n",
       "      <td>23</td>\n",
       "      <td>Funcionário Setor Privado</td>\n",
       "      <td>Pós-Graduado</td>\n",
       "      <td>13</td>\n",
       "      <td>Solteiro</td>\n",
       "      <td>Branco</td>\n",
       "      <td>Feminino</td>\n",
       "      <td>PE</td>\n",
       "      <td>Nordeste</td>\n",
       "      <td>NaN</td>\n",
       "      <td>5316.0</td>\n",
       "    </tr>\n",
       "    <tr>\n",
       "      <th>20</th>\n",
       "      <td>40</td>\n",
       "      <td>Funcionário Setor Privado</td>\n",
       "      <td>Doutorado</td>\n",
       "      <td>16</td>\n",
       "      <td>Casado</td>\n",
       "      <td>Branco</td>\n",
       "      <td>Masculino</td>\n",
       "      <td>PR</td>\n",
       "      <td>Sul</td>\n",
       "      <td>NaN</td>\n",
       "      <td>12535.0</td>\n",
       "    </tr>\n",
       "  </tbody>\n",
       "</table>\n",
       "</div>"
      ],
      "text/plain": [
       "    idade            classe_trabalho  escolaridade  anos_estudo estado_civil  \\\n",
       "12     23  Funcionário Setor Privado  Pós-Graduado           13     Solteiro   \n",
       "20     40  Funcionário Setor Privado     Doutorado           16       Casado   \n",
       "\n",
       "      raca       sexo  UF    região  qtde_filhos  salario  \n",
       "12  Branco   Feminino  PE  Nordeste          NaN   5316.0  \n",
       "20  Branco  Masculino  PR       Sul          NaN  12535.0  "
      ]
     },
     "execution_count": 35,
     "metadata": {},
     "output_type": "execute_result"
    }
   ],
   "source": [
    "filtro = df['qtde_filhos'].isna()\n",
    "index_dados_ausentes = df[filtro].index\n",
    "df.loc[index_dados_ausentes]"
   ]
  },
  {
   "cell_type": "markdown",
   "id": "ac40206b",
   "metadata": {},
   "source": [
    "#### Correção de Dados Numéricos"
   ]
  },
  {
   "cell_type": "code",
   "execution_count": 41,
   "id": "80b20efd",
   "metadata": {},
   "outputs": [
    {
     "data": {
      "text/plain": [
       "<Axes: >"
      ]
     },
     "execution_count": 41,
     "metadata": {},
     "output_type": "execute_result"
    },
    {
     "data": {
      "image/png": "[encoded data removed]",
      "text/plain": [
       "<Figure size 640x480 with 1 Axes>"
      ]
     },
     "metadata": {},
     "output_type": "display_data"
    }
   ],
   "source": [
    "df.boxplot('qtde_filhos')"
   ]
  },
  {
   "cell_type": "code",
   "execution_count": 50,
   "id": "3045d532",
   "metadata": {},
   "outputs": [
    {
     "name": "stdout",
     "output_type": "stream",
     "text": [
      "2.0\n"
     ]
    },
    {
     "data": {
      "text/plain": [
       "idade                0\n",
       "classe_trabalho    387\n",
       "escolaridade         0\n",
       "anos_estudo          0\n",
       "estado_civil         0\n",
       "raca                 0\n",
       "sexo                 0\n",
       "UF                   0\n",
       "região               0\n",
       "qtde_filhos          0\n",
       "salario              0\n",
       "dtype: int64"
      ]
     },
     "execution_count": 53,
     "metadata": {},
     "output_type": "execute_result"
    }
   ],
   "source": [
    "mediana_qtde_filhos = df['qtde_filhos'].median()\n",
    "print(mediana_qtde_filhos)"
   ]
  },
  {
   "cell_type": "code",
   "execution_count": 51,
   "id": "9d515bda",
   "metadata": {},
   "outputs": [
    {
     "name": "stderr",
     "output_type": "stream",
     "text": [
      "C:\\Users\\Kesley\\AppData\\Local\\Temp\\ipykernel_23412\\2846002186.py:1: SettingWithCopyWarning: \n",
      "A value is trying to be set on a copy of a slice from a DataFrame.\n",
      "Try using .loc[row_indexer,col_indexer] = value instead\n",
      "\n",
      "See the caveats in the documentation: https://pandas.pydata.org/pandas-docs/stable/user_guide/indexing.html#returning-a-view-versus-a-copy\n",
      "  df['qtde_filhos'] = df['qtde_filhos'].fillna(value=mediana_qtde_filhos)\n"
     ]
    }
   ],
   "source": [
    "df['qtde_filhos'] = df['qtde_filhos'].fillna(value=mediana_qtde_filhos)"
   ]
  },
  {
   "cell_type": "code",
   "execution_count": 52,
   "id": "1df6f35f",
   "metadata": {},
   "outputs": [
    {
     "data": {
      "text/plain": [
       "idade                0\n",
       "classe_trabalho    387\n",
       "escolaridade         0\n",
       "anos_estudo          0\n",
       "estado_civil         0\n",
       "raca                 0\n",
       "sexo                 0\n",
       "UF                   0\n",
       "região               0\n",
       "qtde_filhos          0\n",
       "salario              0\n",
       "dtype: int64"
      ]
     },
     "execution_count": 52,
     "metadata": {},
     "output_type": "execute_result"
    }
   ],
   "source": [
    "df.isna().sum()"
   ]
  },
  {
   "cell_type": "code",
   "execution_count": null,
   "id": "85a1d9e5",
   "metadata": {},
   "outputs": [],
   "source": []
  },
  {
   "cell_type": "code",
   "execution_count": null,
   "id": "fc80facf",
   "metadata": {},
   "outputs": [],
   "source": []
  },
  {
   "cell_type": "markdown",
   "id": "3f4a87a3",
   "metadata": {},
   "source": [
    "#### Correção de Dados Categóricos"
   ]
  },
  {
   "cell_type": "code",
   "execution_count": 56,
   "id": "4fe43cf9",
   "metadata": {},
   "outputs": [
    {
     "data": {
      "text/plain": [
       "classe_trabalho\n",
       "Funcionário Setor Privado    5322\n",
       "Autônomo                      588\n",
       "Empresário                    496\n",
       "Servidor Público              299\n",
       "MEI                           275\n",
       "Aposentado                    267\n",
       "Funcionário Público           216\n",
       "Menor Aprendiz                 79\n",
       "Desempregado                    3\n",
       "Estagiário                      1\n",
       "Name: count, dtype: int64"
      ]
     },
     "execution_count": 56,
     "metadata": {},
     "output_type": "execute_result"
    }
   ],
   "source": [
    "df['classe_trabalho'].value_counts()\n"
   ]
  },
  {
   "cell_type": "code",
   "execution_count": 58,
   "id": "afe71d6b",
   "metadata": {},
   "outputs": [
    {
     "name": "stdout",
     "output_type": "stream",
     "text": [
      "Funcionário Setor Privado\n"
     ]
    }
   ],
   "source": [
    "moda = df['classe_trabalho'].mode()[0]\n",
    "print(moda)"
   ]
  },
  {
   "cell_type": "code",
   "execution_count": 62,
   "id": "b929d37c",
   "metadata": {},
   "outputs": [
    {
     "data": {
      "text/html": [
       "<div>\n",
       "<style scoped>\n",
       "    .dataframe tbody tr th:only-of-type {\n",
       "        vertical-align: middle;\n",
       "    }\n",
       "\n",
       "    .dataframe tbody tr th {\n",
       "        vertical-align: top;\n",
       "    }\n",
       "\n",
       "    .dataframe thead th {\n",
       "        text-align: right;\n",
       "    }\n",
       "</style>\n",
       "<table border=\"1\" class=\"dataframe\">\n",
       "  <thead>\n",
       "    <tr style=\"text-align: right;\">\n",
       "      <th></th>\n",
       "      <th>idade</th>\n",
       "      <th>classe_trabalho</th>\n",
       "      <th>escolaridade</th>\n",
       "      <th>anos_estudo</th>\n",
       "      <th>estado_civil</th>\n",
       "      <th>raca</th>\n",
       "      <th>sexo</th>\n",
       "      <th>UF</th>\n",
       "      <th>região</th>\n",
       "      <th>qtde_filhos</th>\n",
       "      <th>salario</th>\n",
       "    </tr>\n",
       "  </thead>\n",
       "  <tbody>\n",
       "    <tr>\n",
       "      <th>61</th>\n",
       "      <td>32</td>\n",
       "      <td>NaN</td>\n",
       "      <td>Ensino Fundamental Incompleto</td>\n",
       "      <td>4</td>\n",
       "      <td>União Estável</td>\n",
       "      <td>Branco</td>\n",
       "      <td>Masculino</td>\n",
       "      <td>MA</td>\n",
       "      <td>Nordeste</td>\n",
       "      <td>4.0</td>\n",
       "      <td>1100.0</td>\n",
       "    </tr>\n",
       "    <tr>\n",
       "      <th>69</th>\n",
       "      <td>25</td>\n",
       "      <td>NaN</td>\n",
       "      <td>Ensino Médio Completo</td>\n",
       "      <td>10</td>\n",
       "      <td>Solteiro</td>\n",
       "      <td>Branco</td>\n",
       "      <td>Masculino</td>\n",
       "      <td>BA</td>\n",
       "      <td>Nordeste</td>\n",
       "      <td>3.0</td>\n",
       "      <td>3450.0</td>\n",
       "    </tr>\n",
       "    <tr>\n",
       "      <th>127</th>\n",
       "      <td>35</td>\n",
       "      <td>NaN</td>\n",
       "      <td>Ensino Médio Incompleto</td>\n",
       "      <td>9</td>\n",
       "      <td>Casado</td>\n",
       "      <td>Amarelo</td>\n",
       "      <td>Masculino</td>\n",
       "      <td>PR</td>\n",
       "      <td>Sul</td>\n",
       "      <td>4.0</td>\n",
       "      <td>1100.0</td>\n",
       "    </tr>\n",
       "    <tr>\n",
       "      <th>148</th>\n",
       "      <td>43</td>\n",
       "      <td>NaN</td>\n",
       "      <td>Ensino Médio Completo</td>\n",
       "      <td>10</td>\n",
       "      <td>Divorciado</td>\n",
       "      <td>Branco</td>\n",
       "      <td>Feminino</td>\n",
       "      <td>SE</td>\n",
       "      <td>Nordeste</td>\n",
       "      <td>0.0</td>\n",
       "      <td>2490.0</td>\n",
       "    </tr>\n",
       "    <tr>\n",
       "      <th>153</th>\n",
       "      <td>52</td>\n",
       "      <td>NaN</td>\n",
       "      <td>Ensino Médio Incompleto</td>\n",
       "      <td>9</td>\n",
       "      <td>Divorciado</td>\n",
       "      <td>Branco</td>\n",
       "      <td>Masculino</td>\n",
       "      <td>SP</td>\n",
       "      <td>Sudeste</td>\n",
       "      <td>1.0</td>\n",
       "      <td>1100.0</td>\n",
       "    </tr>\n",
       "    <tr>\n",
       "      <th>...</th>\n",
       "      <td>...</td>\n",
       "      <td>...</td>\n",
       "      <td>...</td>\n",
       "      <td>...</td>\n",
       "      <td>...</td>\n",
       "      <td>...</td>\n",
       "      <td>...</td>\n",
       "      <td>...</td>\n",
       "      <td>...</td>\n",
       "      <td>...</td>\n",
       "      <td>...</td>\n",
       "    </tr>\n",
       "    <tr>\n",
       "      <th>7931</th>\n",
       "      <td>51</td>\n",
       "      <td>NaN</td>\n",
       "      <td>Ensino Médio Completo</td>\n",
       "      <td>10</td>\n",
       "      <td>Divorciado</td>\n",
       "      <td>Branco</td>\n",
       "      <td>Feminino</td>\n",
       "      <td>PA</td>\n",
       "      <td>Norte</td>\n",
       "      <td>2.0</td>\n",
       "      <td>2660.0</td>\n",
       "    </tr>\n",
       "    <tr>\n",
       "      <th>7952</th>\n",
       "      <td>19</td>\n",
       "      <td>NaN</td>\n",
       "      <td>Ensino Médio Completo</td>\n",
       "      <td>10</td>\n",
       "      <td>Solteiro</td>\n",
       "      <td>Branco</td>\n",
       "      <td>Feminino</td>\n",
       "      <td>GO</td>\n",
       "      <td>Centro-Oeste</td>\n",
       "      <td>0.0</td>\n",
       "      <td>2581.0</td>\n",
       "    </tr>\n",
       "    <tr>\n",
       "      <th>7960</th>\n",
       "      <td>30</td>\n",
       "      <td>NaN</td>\n",
       "      <td>Ensino Fundamental Completo</td>\n",
       "      <td>5</td>\n",
       "      <td>Solteiro</td>\n",
       "      <td>Branco</td>\n",
       "      <td>Feminino</td>\n",
       "      <td>TO</td>\n",
       "      <td>Norte</td>\n",
       "      <td>4.0</td>\n",
       "      <td>1100.0</td>\n",
       "    </tr>\n",
       "    <tr>\n",
       "      <th>7988</th>\n",
       "      <td>20</td>\n",
       "      <td>NaN</td>\n",
       "      <td>Ensino Médio Completo</td>\n",
       "      <td>10</td>\n",
       "      <td>Solteiro</td>\n",
       "      <td>Branco</td>\n",
       "      <td>Masculino</td>\n",
       "      <td>MA</td>\n",
       "      <td>Nordeste</td>\n",
       "      <td>2.0</td>\n",
       "      <td>3610.0</td>\n",
       "    </tr>\n",
       "    <tr>\n",
       "      <th>7996</th>\n",
       "      <td>44</td>\n",
       "      <td>NaN</td>\n",
       "      <td>Ensino Médio Completo</td>\n",
       "      <td>10</td>\n",
       "      <td>Casado</td>\n",
       "      <td>Branco</td>\n",
       "      <td>Masculino</td>\n",
       "      <td>BA</td>\n",
       "      <td>Nordeste</td>\n",
       "      <td>0.0</td>\n",
       "      <td>3729.0</td>\n",
       "    </tr>\n",
       "  </tbody>\n",
       "</table>\n",
       "<p>387 rows × 11 columns</p>\n",
       "</div>"
      ],
      "text/plain": [
       "      idade classe_trabalho                   escolaridade  anos_estudo  \\\n",
       "61       32             NaN  Ensino Fundamental Incompleto            4   \n",
       "69       25             NaN          Ensino Médio Completo           10   \n",
       "127      35             NaN        Ensino Médio Incompleto            9   \n",
       "148      43             NaN          Ensino Médio Completo           10   \n",
       "153      52             NaN        Ensino Médio Incompleto            9   \n",
       "...     ...             ...                            ...          ...   \n",
       "7931     51             NaN          Ensino Médio Completo           10   \n",
       "7952     19             NaN          Ensino Médio Completo           10   \n",
       "7960     30             NaN    Ensino Fundamental Completo            5   \n",
       "7988     20             NaN          Ensino Médio Completo           10   \n",
       "7996     44             NaN          Ensino Médio Completo           10   \n",
       "\n",
       "       estado_civil     raca       sexo  UF        região  qtde_filhos  \\\n",
       "61    União Estável   Branco  Masculino  MA      Nordeste          4.0   \n",
       "69         Solteiro   Branco  Masculino  BA      Nordeste          3.0   \n",
       "127          Casado  Amarelo  Masculino  PR           Sul          4.0   \n",
       "148      Divorciado   Branco   Feminino  SE      Nordeste          0.0   \n",
       "153      Divorciado   Branco  Masculino  SP       Sudeste          1.0   \n",
       "...             ...      ...        ...  ..           ...          ...   \n",
       "7931     Divorciado   Branco   Feminino  PA         Norte          2.0   \n",
       "7952       Solteiro   Branco   Feminino  GO  Centro-Oeste          0.0   \n",
       "7960       Solteiro   Branco   Feminino  TO         Norte          4.0   \n",
       "7988       Solteiro   Branco  Masculino  MA      Nordeste          2.0   \n",
       "7996         Casado   Branco  Masculino  BA      Nordeste          0.0   \n",
       "\n",
       "      salario  \n",
       "61     1100.0  \n",
       "69     3450.0  \n",
       "127    1100.0  \n",
       "148    2490.0  \n",
       "153    1100.0  \n",
       "...       ...  \n",
       "7931   2660.0  \n",
       "7952   2581.0  \n",
       "7960   1100.0  \n",
       "7988   3610.0  \n",
       "7996   3729.0  \n",
       "\n",
       "[387 rows x 11 columns]"
      ]
     },
     "execution_count": 62,
     "metadata": {},
     "output_type": "execute_result"
    }
   ],
   "source": [
    "filtro = df['classe_trabalho'].isna()\n",
    "index_ausentes = df[filtro].index\n",
    "df.loc[index_ausentes]"
   ]
  },
  {
   "cell_type": "code",
   "execution_count": null,
   "id": "46c13c44",
   "metadata": {},
   "outputs": [],
   "source": []
  }
 ],
 "metadata": {
  "kernelspec": {
   "display_name": "pucminas",
   "language": "python",
   "name": "pucminas"
  },
  "language_info": {
   "codemirror_mode": {
    "name": "ipython",
    "version": 3
   },
   "file_extension": ".py",
   "mimetype": "text/x-python",
   "name": "python",
   "nbconvert_exporter": "python",
   "pygments_lexer": "ipython3",
   "version": "3.11.3"
  }
 },
 "nbformat": 4,
 "nbformat_minor": 5
}
