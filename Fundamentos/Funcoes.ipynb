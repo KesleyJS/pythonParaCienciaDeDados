{
 "cells": [
  {
   "cell_type": "markdown",
   "id": "592f918a",
   "metadata": {},
   "source": [
    "# Funções\n",
    "****\n",
    "\n",
    "Uma função em Python é um bloco de código reutilizável que executa uma tarefa específica. Ela recebe entradas (conhecidas como parâmetros ou argumentos), processa essas entradas e pode retornar um resultado. As funções são uma parte essencial da programação em Python, pois permitem dividir o código em partes menores e mais gerenciáveis, promovendo a reutilização e a modularidade do código.\n",
    "\n",
    "Para definir uma função em Python, você usa a palavra-chave def, seguida pelo nome da função e, opcionalmente, uma lista de parâmetros entre parênteses. O bloco de código da função é indentado e segue a definição da função. Aqui está um exemplo simples de uma função que soma dois números:"
   ]
  },
  {
   "cell_type": "markdown",
   "id": "9ac8dd15",
   "metadata": {},
   "source": [
    "Exemplo 1: Função Soma"
   ]
  },
  {
   "cell_type": "code",
   "execution_count": 7,
   "id": "e970def1",
   "metadata": {},
   "outputs": [],
   "source": [
    "def soma(a, b):\n",
    "    return a + b"
   ]
  },
  {
   "cell_type": "markdown",
   "id": "40e388b5",
   "metadata": {},
   "source": [
    "Este exemplo, a função soma recebe dois parâmetros a e b, realiza a soma deles e retorna o resultado. Você pode chamar essa função em qualquer lugar do seu código, fornecendo os valores desejados para a e b. Por exemplo:"
   ]
  },
  {
   "cell_type": "code",
   "execution_count": 8,
   "id": "e49d67fb",
   "metadata": {},
   "outputs": [
    {
     "name": "stdout",
     "output_type": "stream",
     "text": [
      "12\n"
     ]
    }
   ],
   "source": [
    "result = soma(5, 7)\n",
    "print(result)"
   ]
  },
  {
   "cell_type": "markdown",
   "id": "8c828ce2",
   "metadata": {},
   "source": [
    "Exemplo 2: Função que verifica se um número é par"
   ]
  },
  {
   "cell_type": "code",
   "execution_count": 9,
   "id": "e8c630d5",
   "metadata": {},
   "outputs": [],
   "source": [
    "def pares(n):\n",
    "    if n % 2 == 0:\n",
    "        return f'{n} é par'\n",
    "    return f'{n} é impar'"
   ]
  },
  {
   "cell_type": "code",
   "execution_count": 10,
   "id": "5b0baf49",
   "metadata": {},
   "outputs": [
    {
     "name": "stdout",
     "output_type": "stream",
     "text": [
      "982 é par\n",
      "527 é impar\n"
     ]
    }
   ],
   "source": [
    "result = pares(982)\n",
    "\n",
    "print(result)\n",
    "\n",
    "result1 = pares(527)\n",
    "\n",
    "print(result1)\n"
   ]
  },
  {
   "cell_type": "markdown",
   "id": "4f452d9c",
   "metadata": {},
   "source": [
    "Exemplo 3: Função que calcula a média de uma lista de números"
   ]
  },
  {
   "cell_type": "code",
   "execution_count": 11,
   "id": "fa301507",
   "metadata": {},
   "outputs": [],
   "source": [
    "def media_lista(lista):\n",
    "    if len(lista) > 0:\n",
    "        print(' A média da lista é: ')\n",
    "        return sum(lista) / len(lista)\n",
    "    else:\n",
    "        return print(' A lista está vazia')"
   ]
  },
  {
   "cell_type": "code",
   "execution_count": 12,
   "metadata": {},
   "outputs": [
    {
     "name": "stdout",
     "output_type": "stream",
     "text": [
      "[1, 3, 4, 8, 74, 18]\n"
     ]
    }
   ],
   "source": [
    "lista_numeros = [1,3,4,8,74,18]\n",
    "print(lista_numeros)"
   ]
  },
  {
   "cell_type": "code",
   "execution_count": 13,
   "id": "10af4849",
   "metadata": {},
   "outputs": [
    {
     "name": "stdout",
     "output_type": "stream",
     "text": [
      " A média da lista é: \n"
     ]
    },
    {
     "data": {
      "text/plain": [
       "18.0"
      ]
     },
     "execution_count": 13,
     "metadata": {},
     "output_type": "execute_result"
    }
   ],
   "source": [
    "media_lista(lista_numeros)"
   ]
  },
  {
   "cell_type": "code",
   "execution_count": 14,
   "id": "2771020e",
   "metadata": {},
   "outputs": [
    {
     "data": {
      "text/plain": [
       "6"
      ]
     },
     "execution_count": 14,
     "metadata": {},
     "output_type": "execute_result"
    }
   ],
   "source": [
    "len(lista_numeros)"
   ]
  },
  {
   "cell_type": "code",
   "execution_count": 15,
   "id": "5d9a4d86",
   "metadata": {},
   "outputs": [
    {
     "data": {
      "text/plain": [
       "18.0"
      ]
     },
     "execution_count": 15,
     "metadata": {},
     "output_type": "execute_result"
    }
   ],
   "source": [
    "sum(lista_numeros) / len(lista_numeros)"
   ]
  }
 ],
 "metadata": {
  "kernelspec": {
   "display_name": "pucminas",
   "language": "python",
   "name": "pucminas"
  },
  "language_info": {
   "codemirror_mode": {
    "name": "ipython",
    "version": 3
   },
   "file_extension": ".py",
   "mimetype": "text/x-python",
   "name": "python",
   "nbconvert_exporter": "python",
   "pygments_lexer": "ipython3",
   "version": "3.11.3"
  }
 },
 "nbformat": 4,
 "nbformat_minor": 5
}
