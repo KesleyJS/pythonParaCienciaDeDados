{
 "cells": [
  {
   "cell_type": "markdown",
   "id": "316736c2",
   "metadata": {},
   "source": [
    "# Estruturas de Dados\n",
    "****\n",
    "As estruturas de dados desempenham um papel fundamental na organização e manipulação de informações em qualquer linguagem de programação. Em Python, uma linguagem conhecida por sua simplicidade e flexibilidade, uma variedade de estruturas de dados está disponível para lidar com diferentes necessidades de armazenamento e processamento de dados.\n",
    "\n",
    "Nesta aula, exploraremos algumas das estruturas de dados mais comuns em Python, incluindo listas, tuplas, conjuntos, dicionários, séries e dataframes. Cada uma dessas estruturas possui características únicas que a tornam adequada para diferentes tipos de tarefas.\n",
    "***"
   ]
  },
  {
   "cell_type": "markdown",
   "id": "2d53db6b",
   "metadata": {},
   "source": [
    "##### Lista (list)\n",
    "\n",
    "As listas em Python são estruturas de dados fundamentais que permitem armazenar coleções ordenadas de itens. Elas são mutáveis, o que significa que você pode adicionar, remover e modificar elementos após a criação da lista. As listas são muito versáteis e são amplamente utilizadas em programação Python para armazenar e manipular conjuntos de dados.\n",
    "\n",
    "O tipo de dados lista é utilizado para representar uma sequência **mutável** de valores. Uma lista é criada colocando valores separados por vírgulas entre colchetes. Os valores podem ser de qualquer tipo.\n"
   ]
  },
  {
   "cell_type": "code",
   "execution_count": 101,
   "id": "64b950f9",
   "metadata": {},
   "outputs": [],
   "source": [
    "numbers = [10,20,30,40,100,2,4,6,17]"
   ]
  },
  {
   "cell_type": "markdown",
   "id": "e2fd481d",
   "metadata": {},
   "source": [
    "Acesso a Elementos \n",
    "\n",
    "Para acessar elementos individuais em uma lista, utilize índices começando do 0."
   ]
  },
  {
   "cell_type": "code",
   "execution_count": 102,
   "id": "150908a5",
   "metadata": {},
   "outputs": [
    {
     "name": "stdout",
     "output_type": "stream",
     "text": [
      "O primeiro elemento da lista é 10\n",
      "O ultimo elemento da lista é  17\n"
     ]
    }
   ],
   "source": [
    "print(f'O primeiro elemento da lista é {numbers[0]}')\n",
    "print(f'O ultimo elemento da lista é  {numbers[-1]}')"
   ]
  },
  {
   "cell_type": "markdown",
   "id": "60e04a74",
   "metadata": {},
   "source": [
    "Adição de Elementos\n",
    "\n",
    "Adicione elementos ao final da lista com append() ou insira em uma posição específica com insert()."
   ]
  },
  {
   "cell_type": "code",
   "execution_count": 103,
   "id": "80633ca6",
   "metadata": {},
   "outputs": [
    {
     "name": "stdout",
     "output_type": "stream",
     "text": [
      "[10, 20, 30, 40, 100, 2, 4, 6, 17, 21]\n"
     ]
    }
   ],
   "source": [
    "numbers.append(21)\n",
    "print(numbers)"
   ]
  },
  {
   "cell_type": "code",
   "execution_count": 104,
   "id": "6c1082b1",
   "metadata": {},
   "outputs": [
    {
     "name": "stdout",
     "output_type": "stream",
     "text": [
      "[10, 200, 20, 30, 40, 100, 2, 4, 6, 17, 21]\n"
     ]
    }
   ],
   "source": [
    "numbers.insert(1, 200)\n",
    "print(numbers)"
   ]
  },
  {
   "cell_type": "markdown",
   "id": "92827047",
   "metadata": {},
   "source": [
    "Remoção de Elementos\n",
    "\n",
    "Remova elementos com del, remove() ou pop()."
   ]
  },
  {
   "cell_type": "code",
   "execution_count": 105,
   "id": "fc89e965",
   "metadata": {},
   "outputs": [
    {
     "name": "stdout",
     "output_type": "stream",
     "text": [
      "[10, 20, 30, 40, 100, 2, 4, 6, 17, 21]\n"
     ]
    }
   ],
   "source": [
    "del numbers[1]\n",
    "print(numbers)"
   ]
  },
  {
   "cell_type": "code",
   "execution_count": 106,
   "id": "2997fa02",
   "metadata": {},
   "outputs": [
    {
     "name": "stdout",
     "output_type": "stream",
     "text": [
      "[20, 30, 40, 100, 2, 4, 6, 17, 21]\n"
     ]
    }
   ],
   "source": [
    "numbers.remove(10)\n",
    "print(numbers)"
   ]
  },
  {
   "cell_type": "code",
   "execution_count": 107,
   "id": "c1a5459b",
   "metadata": {},
   "outputs": [
    {
     "name": "stdout",
     "output_type": "stream",
     "text": [
      "[20, 30, 40, 100, 2, 4, 6, 17]\n"
     ]
    }
   ],
   "source": [
    "numbers.pop()\n",
    "print(numbers)"
   ]
  },
  {
   "cell_type": "markdown",
   "id": "ab1d738c",
   "metadata": {},
   "source": [
    "Concatenação de Listas\n",
    "\n",
    "Concatene listas com o operador +."
   ]
  },
  {
   "cell_type": "code",
   "execution_count": 108,
   "id": "4ca918b5",
   "metadata": {},
   "outputs": [
    {
     "data": {
      "text/plain": [
       "['Hermenegildo', 'John', 'Manoel Gomes', 'Jurileide', 'Marcela']"
      ]
     },
     "execution_count": 108,
     "metadata": {},
     "output_type": "execute_result"
    }
   ],
   "source": [
    "lista_alunos = ['Hermenegildo', 'John', 'Manoel Gomes', 'Jurileide', 'Marcela']\n",
    "lista_alunos"
   ]
  },
  {
   "cell_type": "code",
   "execution_count": 109,
   "id": "1f16d699",
   "metadata": {},
   "outputs": [
    {
     "data": {
      "text/plain": [
       "['BH', 'SP', 'PE', 'RJ', 17]"
      ]
     },
     "execution_count": 109,
     "metadata": {},
     "output_type": "execute_result"
    }
   ],
   "source": [
    "lista_cidades = ['BH', 'SP', 'PE', 'RJ', 17]\n",
    "lista_cidades"
   ]
  },
  {
   "cell_type": "code",
   "execution_count": 110,
   "id": "0793316d",
   "metadata": {},
   "outputs": [
    {
     "data": {
      "text/plain": [
       "['Hermenegildo',\n",
       " 'John',\n",
       " 'Manoel Gomes',\n",
       " 'Jurileide',\n",
       " 'Marcela',\n",
       " 'BH',\n",
       " 'SP',\n",
       " 'PE',\n",
       " 'RJ',\n",
       " 17]"
      ]
     },
     "execution_count": 110,
     "metadata": {},
     "output_type": "execute_result"
    }
   ],
   "source": [
    "lista_alunos_cidades = lista_alunos + lista_cidades\n",
    "lista_alunos_cidades"
   ]
  },
  {
   "cell_type": "markdown",
   "id": "f8662f31",
   "metadata": {},
   "source": [
    "Fatiamento (Slicing)\n",
    "\n",
    "Extraia partes da lista usando a notação de fatiamento."
   ]
  },
  {
   "cell_type": "code",
   "execution_count": 111,
   "id": "3c734408",
   "metadata": {},
   "outputs": [
    {
     "data": {
      "text/plain": [
       "['John', 'Manoel Gomes', 'Jurileide', 'Marcela']"
      ]
     },
     "execution_count": 111,
     "metadata": {},
     "output_type": "execute_result"
    }
   ],
   "source": [
    "lista_alunos_cidades[1:5]"
   ]
  },
  {
   "cell_type": "code",
   "execution_count": 112,
   "id": "e6a6c736",
   "metadata": {},
   "outputs": [
    {
     "data": {
      "text/plain": [
       "'Kesley'"
      ]
     },
     "execution_count": 112,
     "metadata": {},
     "output_type": "execute_result"
    }
   ],
   "source": [
    "nome = 'Kesley Jorge'\n",
    "nome[0:6]"
   ]
  },
  {
   "cell_type": "markdown",
   "id": "1432ca74",
   "metadata": {},
   "source": [
    "Ordenação\n",
    "\n",
    "Ordene os elementos de uma lista com sort() e inverta a ordem com reverse()."
   ]
  },
  {
   "cell_type": "code",
   "execution_count": 113,
   "id": "6e745735",
   "metadata": {},
   "outputs": [
    {
     "data": {
      "text/plain": [
       "[20, 30, 40, 100, 2, 4, 6, 17]"
      ]
     },
     "execution_count": 113,
     "metadata": {},
     "output_type": "execute_result"
    }
   ],
   "source": [
    "numbers"
   ]
  },
  {
   "cell_type": "code",
   "execution_count": 114,
   "id": "6006529e",
   "metadata": {},
   "outputs": [
    {
     "data": {
      "text/plain": [
       "[2, 4, 6, 17, 20, 30, 40, 100]"
      ]
     },
     "execution_count": 114,
     "metadata": {},
     "output_type": "execute_result"
    }
   ],
   "source": [
    "numbers.sort()\n",
    "numbers"
   ]
  },
  {
   "cell_type": "code",
   "execution_count": 115,
   "id": "2b415e23",
   "metadata": {},
   "outputs": [
    {
     "data": {
      "text/plain": [
       "[100, 40, 30, 20, 17, 6, 4, 2]"
      ]
     },
     "execution_count": 115,
     "metadata": {},
     "output_type": "execute_result"
    }
   ],
   "source": [
    "numbers.reverse()\n",
    "numbers"
   ]
  },
  {
   "cell_type": "markdown",
   "id": "a1cb9db1",
   "metadata": {},
   "source": [
    "Busca de Elementos\n",
    "\n",
    "Verifique a presença de um elemento com in ou conte ocorrências com count()."
   ]
  },
  {
   "cell_type": "code",
   "execution_count": 116,
   "id": "88215198",
   "metadata": {},
   "outputs": [
    {
     "name": "stdout",
     "output_type": "stream",
     "text": [
      "O número 541651 não está na lista\n"
     ]
    }
   ],
   "source": [
    "encontra = 541651\n",
    "if encontra in numbers:\n",
    "    print(f'O número {encontra} está na lista')\n",
    "else:\n",
    "    print(f'O número {encontra} não está na lista')"
   ]
  },
  {
   "cell_type": "code",
   "execution_count": 117,
   "id": "395f2696",
   "metadata": {},
   "outputs": [
    {
     "data": {
      "text/plain": [
       "1"
      ]
     },
     "execution_count": 117,
     "metadata": {},
     "output_type": "execute_result"
    }
   ],
   "source": [
    "contar = 2\n",
    "numbers.count(contar)\n",
    "\n"
   ]
  },
  {
   "cell_type": "markdown",
   "id": "ca5291b3",
   "metadata": {},
   "source": [
    "***"
   ]
  },
  {
   "cell_type": "markdown",
   "id": "9c92e7b9",
   "metadata": {},
   "source": [
    "##### Tupla (tuple)\n",
    "O tipo de dados tupla é utilizado para representar uma sequência **imutável** de valores. Uma tupla é criada colocando valores separados por vírgulas entre parênteses. Os valores podem ser de qualquer tipo.\n",
    "\n",
    "1. O uso de tuplas em Python é muito comum quando se deseja armazenar um conjunto de valores que não devem ser modificados.\n",
    "\n",
    "2. As tuplas são utilizadas em diversas situações, como por exemplo, na representação de coordenadas geográficas (latitude e longitude), na definição de cores em sistemas de design gráfico, na criação de jogos que requerem o armazenamento de posições de elementos em uma grade, entre outros."
   ]
  },
  {
   "cell_type": "markdown",
   "id": "6c221a6d",
   "metadata": {},
   "source": [
    "Criação de uma Tupla\n",
    "\n",
    "Para criar uma tupla, você pode usar parênteses e separar os elementos por vírgulas."
   ]
  },
  {
   "cell_type": "code",
   "execution_count": 118,
   "id": "f1958448",
   "metadata": {},
   "outputs": [
    {
     "data": {
      "text/plain": [
       "(2, 4, 7, 18, 25)"
      ]
     },
     "execution_count": 118,
     "metadata": {},
     "output_type": "execute_result"
    }
   ],
   "source": [
    "tupla = (2,4,7,18,25)\n",
    "tupla"
   ]
  },
  {
   "cell_type": "markdown",
   "id": "87d36d39",
   "metadata": {},
   "source": [
    "Acesso a Elementos\n",
    "\n",
    "Os elementos de uma tupla são acessados por índices, começando do 0."
   ]
  },
  {
   "cell_type": "code",
   "execution_count": 119,
   "id": "5a1c6e8f",
   "metadata": {},
   "outputs": [
    {
     "data": {
      "text/plain": [
       "25"
      ]
     },
     "execution_count": 119,
     "metadata": {},
     "output_type": "execute_result"
    }
   ],
   "source": [
    "tupla[-1]    "
   ]
  },
  {
   "cell_type": "markdown",
   "id": "b1e648c5",
   "metadata": {},
   "source": [
    "Fatiamento (Slicing) de uma Tupla\n",
    "\n",
    "Você pode extrair partes de uma tupla usando a notação de fatiamento."
   ]
  },
  {
   "cell_type": "code",
   "execution_count": 120,
   "id": "f2f90a7f",
   "metadata": {},
   "outputs": [
    {
     "data": {
      "text/plain": [
       "(2, 4, 7)"
      ]
     },
     "execution_count": 120,
     "metadata": {},
     "output_type": "execute_result"
    }
   ],
   "source": [
    "tupla[0:3]"
   ]
  },
  {
   "cell_type": "markdown",
   "id": "a78acac3",
   "metadata": {},
   "source": [
    "Concatenação de Tuplas\n",
    "\n",
    "Concatene tuplas usando o operador +."
   ]
  },
  {
   "cell_type": "code",
   "execution_count": 121,
   "id": "03924ddc",
   "metadata": {},
   "outputs": [
    {
     "data": {
      "text/plain": [
       "(10, 14, 20, 15)"
      ]
     },
     "execution_count": 121,
     "metadata": {},
     "output_type": "execute_result"
    }
   ],
   "source": [
    "tupla1 = (10,14)\n",
    "tupla2 = (20,15)\n",
    "tupla3 = tupla1 + tupla2\n",
    "tupla3"
   ]
  },
  {
   "cell_type": "markdown",
   "id": "32f53d2c",
   "metadata": {},
   "source": [
    "Imutabilidade\n",
    "\n",
    "Tentativas de modificar elementos de uma tupla resultarão em erro."
   ]
  },
  {
   "cell_type": "code",
   "execution_count": 122,
   "id": "32d496da",
   "metadata": {},
   "outputs": [
    {
     "ename": "TypeError",
     "evalue": "'tuple' object does not support item assignment",
     "output_type": "error",
     "traceback": [
      "\u001b[1;31m---------------------------------------------------------------------------\u001b[0m",
      "\u001b[1;31mTypeError\u001b[0m                                 Traceback (most recent call last)",
      "Cell \u001b[1;32mIn[122], line 1\u001b[0m\n\u001b[1;32m----> 1\u001b[0m \u001b[43mtupla\u001b[49m\u001b[43m[\u001b[49m\u001b[38;5;241;43m0\u001b[39;49m\u001b[43m]\u001b[49m \u001b[38;5;241m=\u001b[39m \u001b[38;5;241m10\u001b[39m\n",
      "\u001b[1;31mTypeError\u001b[0m: 'tuple' object does not support item assignment"
     ]
    }
   ],
   "source": [
    "tupla[0] = 10"
   ]
  },
  {
   "cell_type": "markdown",
   "id": "c0b287a2",
   "metadata": {},
   "source": [
    "***"
   ]
  },
  {
   "cell_type": "markdown",
   "id": "03c3b87b",
   "metadata": {},
   "source": [
    "##### Dicionário (dict)\n",
    "O tipo de dado dicionário (dict) em Python é uma estrutura de dados que armazena valores em pares de chave-valor.\n",
    "\n",
    "Os dicionários em Python são estruturas de dados que permitem armazenar pares chave-valor, onde cada valor é associado a uma chave única. Eles são muito úteis para representar dados estruturados e indexados por chaves significativas, facilitando o acesso e a manipulação dos dados. Aqui estão algumas características importantes dos dicionários\n",
    "\n",
    "\n",
    "- Chaves Únicas: Cada chave em um dicionário é única, o que significa que não pode haver duas chaves iguais no mesmo dicionário. No entanto, os valores associados às chaves podem ser duplicados.\n",
    "\n",
    "- Mutabilidade: Os dicionários são mutáveis, o que significa que você pode adicionar, modificar e remover pares chave-valor após a criação do dicionário.\n",
    "\n",
    "- Flexibilidade: Os valores em um dicionário podem ser de qualquer tipo de dado, incluindo inteiros, strings, floats, listas, tuplas, conjuntos, outros dicionários e até mesmo funções.\n",
    "\n",
    "- Indexação por Chaves: Os elementos em um dicionário são acessados não por índices numéricos, como em listas e tuplas, mas sim por meio de chaves significativas."
   ]
  },
  {
   "cell_type": "markdown",
   "id": "ed0fcba8",
   "metadata": {},
   "source": [
    "Criação de um Dicionário\n",
    "\n",
    "Para criar um dicionário, você pode usar chaves {} e especificar pares chave-valor separados por vírgulas."
   ]
  },
  {
   "cell_type": "code",
   "execution_count": 126,
   "id": "795b7059",
   "metadata": {},
   "outputs": [],
   "source": [
    "pessoa = {\n",
    "    'nome': 'Mark',\n",
    "    'idade': 25,\n",
    "    'cidade': 'Amapá',\n",
    "    'telefone': (31, 55555-7980)\n",
    "}"
   ]
  },
  {
   "cell_type": "code",
   "execution_count": 49,
   "id": "304d4c08",
   "metadata": {},
   "outputs": [
    {
     "name": "stdout",
     "output_type": "stream",
     "text": [
      "{'nome': 'Mark', 'idade': 25, 'cidade': 'Amapá', 'telefone': (31, 47575)}\n"
     ]
    }
   ],
   "source": [
    "print(pessoa)"
   ]
  },
  {
   "cell_type": "markdown",
   "id": "790f178b",
   "metadata": {},
   "source": [
    "Acesso a Elementos por Chave\n",
    "\n",
    "Os elementos em um dicionário são acessados por suas chaves."
   ]
  },
  {
   "cell_type": "code",
   "execution_count": 50,
   "id": "2eb4efc1",
   "metadata": {},
   "outputs": [
    {
     "data": {
      "text/plain": [
       "'Amapá'"
      ]
     },
     "execution_count": 50,
     "metadata": {},
     "output_type": "execute_result"
    }
   ],
   "source": [
    "pessoa['cidade']"
   ]
  },
  {
   "cell_type": "markdown",
   "id": "f535dbd5",
   "metadata": {},
   "source": [
    "Adição de Novos Pares Chave-Valor\n",
    "\n",
    "Você pode adicionar novos pares chave-valor a um dicionário atribuindo um valor a uma nova chave."
   ]
  },
  {
   "cell_type": "code",
   "execution_count": 51,
   "id": "140beb78",
   "metadata": {},
   "outputs": [
    {
     "data": {
      "text/plain": [
       "{'nome': 'Mark', 'idade': 25, 'cidade': 'Amapá', 'telefone': (31, 47575)}"
      ]
     },
     "execution_count": 51,
     "metadata": {},
     "output_type": "execute_result"
    }
   ],
   "source": [
    "pessoa"
   ]
  },
  {
   "cell_type": "code",
   "execution_count": 128,
   "id": "60ac5401",
   "metadata": {},
   "outputs": [],
   "source": [
    "pessoa['profissao'] = 'professor'"
   ]
  },
  {
   "cell_type": "code",
   "execution_count": 90,
   "id": "1063c39c",
   "metadata": {},
   "outputs": [
    {
     "data": {
      "text/plain": [
       "{'nome': 'Mark', 'idade': 25, 'cidade': 'Amapá', 'telefone': (31, 47575)}"
      ]
     },
     "execution_count": 90,
     "metadata": {},
     "output_type": "execute_result"
    }
   ],
   "source": [
    "pessoa"
   ]
  },
  {
   "cell_type": "markdown",
   "id": "b3fff67b",
   "metadata": {},
   "source": [
    "Modificação de Valores de Chaves Existentes\n",
    "\n",
    "Você pode modificar o valor associado a uma chave existente atribuindo um novo valor a essa chave."
   ]
  },
  {
   "cell_type": "code",
   "execution_count": 129,
   "id": "83cb5c0d",
   "metadata": {},
   "outputs": [
    {
     "data": {
      "text/plain": [
       "{'nome': 'Mark',\n",
       " 'idade': 25,\n",
       " 'cidade': 'Belo Horizonte',\n",
       " 'telefone': (31, 47575),\n",
       " 'profissao': 'professor'}"
      ]
     },
     "execution_count": 129,
     "metadata": {},
     "output_type": "execute_result"
    }
   ],
   "source": [
    "pessoa['cidade'] = 'Belo Horizonte'\n",
    "pessoa"
   ]
  },
  {
   "cell_type": "markdown",
   "id": "b8fd11ef",
   "metadata": {},
   "source": [
    "Remoção de Pares Chave-Valor\n",
    "\n",
    "Você pode remover pares chave-valor de um dicionário usando o comando del seguido da chave que deseja remover."
   ]
  },
  {
   "cell_type": "code",
   "execution_count": 130,
   "id": "9231a592",
   "metadata": {},
   "outputs": [
    {
     "data": {
      "text/plain": [
       "{'nome': 'Mark',\n",
       " 'idade': 25,\n",
       " 'cidade': 'Belo Horizonte',\n",
       " 'profissao': 'professor'}"
      ]
     },
     "execution_count": 130,
     "metadata": {},
     "output_type": "execute_result"
    }
   ],
   "source": [
    "del pessoa['telefone']\n",
    "pessoa"
   ]
  },
  {
   "cell_type": "markdown",
   "id": "7d1387c8",
   "metadata": {},
   "source": [
    "Iteração sobre Chaves e Valores\n",
    "\n",
    "Você pode iterar sobre as chaves, os valores ou ambos em um dicionário usando loops for."
   ]
  },
  {
   "cell_type": "code",
   "execution_count": 131,
   "id": "3282f4ae",
   "metadata": {},
   "outputs": [
    {
     "name": "stdout",
     "output_type": "stream",
     "text": [
      "nome\n",
      "idade\n",
      "cidade\n",
      "profissao\n"
     ]
    }
   ],
   "source": [
    "for chave in pessoa:\n",
    "    print(chave)\n"
   ]
  },
  {
   "cell_type": "code",
   "execution_count": 132,
   "id": "e84d329b",
   "metadata": {},
   "outputs": [
    {
     "name": "stdout",
     "output_type": "stream",
     "text": [
      "Mark\n",
      "25\n",
      "Belo Horizonte\n",
      "professor\n"
     ]
    }
   ],
   "source": [
    "for valor in pessoa.values():\n",
    "    print(valor)"
   ]
  },
  {
   "cell_type": "code",
   "execution_count": 133,
   "id": "6ddfd9e1",
   "metadata": {},
   "outputs": [
    {
     "data": {
      "text/plain": [
       "dict_items([('nome', 'Mark'), ('idade', 25), ('cidade', 'Belo Horizonte'), ('profissao', 'professor')])"
      ]
     },
     "execution_count": 133,
     "metadata": {},
     "output_type": "execute_result"
    }
   ],
   "source": [
    "pessoa.items()"
   ]
  },
  {
   "cell_type": "code",
   "execution_count": 134,
   "id": "30f4d9aa",
   "metadata": {},
   "outputs": [
    {
     "name": "stdout",
     "output_type": "stream",
     "text": [
      "nome Mark\n",
      "idade 25\n",
      "cidade Belo Horizonte\n",
      "profissao professor\n"
     ]
    }
   ],
   "source": [
    "for chave, valor in pessoa.items():\n",
    "    print(chave, valor)"
   ]
  },
  {
   "cell_type": "markdown",
   "id": "7fdf73c2",
   "metadata": {},
   "source": [
    "Criando uma lista de dicionários\n",
    "\n",
    "As listas de dicionários são úteis para armazenar e manipular coleções de registros com vários campos. Elas podem ser usadas em muitas aplicações, como por exemplo:\n",
    "\n",
    "- Banco de dados em memória: podem ser usadas para armazenar dados em memória, como se fosse um banco de dados.\n",
    "\n",
    "- Análise de dados:  podem ser usadas para armazenar dados de pesquisa, tais como resultados de experimentos científicos ou pesquisas de mercado.\n",
    "\n",
    "- Processamento de texto: podem ser usadas para armazenar dados de texto, tais como resultados de análise de sentimento ou de mineração de dados.\n",
    "\n",
    "- Configurações de aplicativos: podem ser usadas para armazenar configurações de aplicativos e preferências do usuário."
   ]
  },
  {
   "cell_type": "code",
   "execution_count": 135,
   "id": "a4a8331f",
   "metadata": {},
   "outputs": [],
   "source": [
    "lista_dicionarios = []\n",
    "\n",
    "pessoa1 = {\n",
    "    'nome': 'John',\n",
    "    'Curso': 'UX'\n",
    "}\n",
    "\n",
    "lista_dicionarios.append(pessoa1)"
   ]
  },
  {
   "cell_type": "code",
   "execution_count": 136,
   "id": "80cb8df6",
   "metadata": {},
   "outputs": [],
   "source": [
    "pessoa2 = {\n",
    "    'nome': 'Jessica',\n",
    "    'Curso': 'UX'\n",
    "}\n",
    "\n",
    "lista_dicionarios.append(pessoa2)"
   ]
  },
  {
   "cell_type": "code",
   "execution_count": 138,
   "id": "0f19d24c",
   "metadata": {},
   "outputs": [],
   "source": [
    "pessoa3 = {\n",
    "    'nome': 'James',\n",
    "    'Curso': 'UX'\n",
    "}\n",
    "\n",
    "lista_dicionarios.append(pessoa3)"
   ]
  },
  {
   "cell_type": "code",
   "execution_count": 139,
   "id": "9ec1bc49",
   "metadata": {},
   "outputs": [
    {
     "data": {
      "text/plain": [
       "[{'nome': 'John', 'Curso': 'UX'},\n",
       " {'nome': 'Jessica', 'Curso': 'UX'},\n",
       " {'nome': 'James', 'Curso': 'UX'}]"
      ]
     },
     "execution_count": 139,
     "metadata": {},
     "output_type": "execute_result"
    }
   ],
   "source": [
    "lista_dicionarios\n"
   ]
  },
  {
   "cell_type": "code",
   "execution_count": 140,
   "id": "cee8782f",
   "metadata": {},
   "outputs": [
    {
     "data": {
      "text/plain": [
       "{'nome': 'Jessica', 'Curso': 'UX'}"
      ]
     },
     "execution_count": 140,
     "metadata": {},
     "output_type": "execute_result"
    }
   ],
   "source": [
    "lista_dicionarios[1]"
   ]
  },
  {
   "cell_type": "markdown",
   "id": "291a8c17",
   "metadata": {},
   "source": [
    "Alterando valor em uma lista de dicionário"
   ]
  },
  {
   "cell_type": "code",
   "execution_count": 141,
   "id": "ae8a914a",
   "metadata": {},
   "outputs": [],
   "source": [
    "lista_dicionarios[1]['cidade'] = 'Extrema'"
   ]
  },
  {
   "cell_type": "code",
   "execution_count": 142,
   "id": "d9b4f45e",
   "metadata": {},
   "outputs": [
    {
     "data": {
      "text/plain": [
       "[{'nome': 'John', 'Curso': 'UX'},\n",
       " {'nome': 'Jessica', 'Curso': 'UX', 'cidade': 'Extrema'},\n",
       " {'nome': 'James', 'Curso': 'UX'}]"
      ]
     },
     "execution_count": 142,
     "metadata": {},
     "output_type": "execute_result"
    }
   ],
   "source": [
    "lista_dicionarios"
   ]
  },
  {
   "cell_type": "markdown",
   "id": "3e5d9b22",
   "metadata": {},
   "source": [
    "Adiconando uma lista em uma chave de um dicionário"
   ]
  },
  {
   "cell_type": "code",
   "execution_count": 145,
   "id": "3149fb6b",
   "metadata": {},
   "outputs": [],
   "source": [
    "lista_dicionarios[1]['Telefone'] = ['11 56468421651', '11 656656548']"
   ]
  },
  {
   "cell_type": "code",
   "execution_count": 146,
   "id": "58326e80",
   "metadata": {},
   "outputs": [
    {
     "data": {
      "text/plain": [
       "[{'nome': 'John', 'Curso': 'UX'},\n",
       " {'nome': 'Jessica',\n",
       "  'Curso': 'UX',\n",
       "  'cidade': 'Extrema',\n",
       "  'Telefone': ['11 56468421651', '11 656656548']},\n",
       " {'nome': 'James', 'Curso': 'UX'}]"
      ]
     },
     "execution_count": 146,
     "metadata": {},
     "output_type": "execute_result"
    }
   ],
   "source": [
    "lista_dicionarios"
   ]
  },
  {
   "cell_type": "markdown",
   "id": "ece6707f",
   "metadata": {},
   "source": [
    "***"
   ]
  },
  {
   "cell_type": "markdown",
   "id": "5537ce71",
   "metadata": {},
   "source": [
    "##### Conjuntos \n",
    "Os conjuntos em Python são estruturas de dados que representam coleções de elementos únicos e não ordenados. Eles são úteis para operações que envolvem testes de pertencimento, remoção de duplicatas e operações de conjunto como união, interseção e diferença. Aqui estão algumas características importantes dos conjuntos:\n",
    "\n",
    "- Elementos Únicos: Os conjuntos em Python não contêm elementos duplicados. Se você tentar adicionar um elemento que já está presente no conjunto, ele será ignorado.\n",
    "\n",
    "- Não Ordenados: Os elementos em um conjunto não têm uma ordem específica. Isso significa que você não pode acessar elementos em um conjunto por índices como em listas e tuplas.\n",
    "\n",
    "- Mutabilidade Limitada: Embora os elementos individuais em um conjunto sejam imutáveis (por exemplo, strings e tuplas), você pode adicionar e remover elementos de um conjunto.\n",
    "\n",
    "- Eficiência em Testes de Pertencimento: Os conjuntos são otimizados para testes de pertencimento, o que significa que verificar se um elemento está presente em um conjunto é uma operação muito rápida."
   ]
  },
  {
   "cell_type": "markdown",
   "id": "18fdb9eb",
   "metadata": {},
   "source": [
    "Criação de um Conjunto\n",
    "\n",
    "Para criar um conjunto, você pode usar chaves { } e listar os elementos separados por vírgulas."
   ]
  },
  {
   "cell_type": "code",
   "execution_count": 147,
   "id": "f02cb9c7",
   "metadata": {},
   "outputs": [
    {
     "data": {
      "text/plain": [
       "{1, 2, 4, 5, 7, 9}"
      ]
     },
     "execution_count": 147,
     "metadata": {},
     "output_type": "execute_result"
    }
   ],
   "source": [
    "conjunto = {1,4,7,5,9,2}\n",
    "conjunto"
   ]
  },
  {
   "cell_type": "markdown",
   "id": "38754223",
   "metadata": {},
   "source": [
    "Remoção de Duplicatas de uma Lista\n",
    "\n",
    "Você pode converter uma lista em um conjunto para remover elementos duplicados."
   ]
  },
  {
   "cell_type": "code",
   "execution_count": 148,
   "id": "4c491cab",
   "metadata": {},
   "outputs": [
    {
     "data": {
      "text/plain": [
       "{1, 2, 4, 7, 9, 15}"
      ]
     },
     "execution_count": 148,
     "metadata": {},
     "output_type": "execute_result"
    }
   ],
   "source": [
    "conjunto = {1,4,7,15,9,2,15,1}\n",
    "conjunto"
   ]
  },
  {
   "cell_type": "code",
   "execution_count": 152,
   "id": "880de980",
   "metadata": {},
   "outputs": [
    {
     "data": {
      "text/plain": [
       "{1, 2, 4, 7, 9, 15}"
      ]
     },
     "execution_count": 152,
     "metadata": {},
     "output_type": "execute_result"
    }
   ],
   "source": [
    "lista = [1,4,7,15,9,2,15,1]\n",
    "set(lista)"
   ]
  },
  {
   "cell_type": "markdown",
   "id": "7c1dd89a",
   "metadata": {},
   "source": [
    "Adição de Elementos\n",
    "\n",
    "Você pode adicionar elementos a um conjunto usando o método add()."
   ]
  },
  {
   "cell_type": "code",
   "execution_count": 155,
   "id": "2ac30f44",
   "metadata": {},
   "outputs": [
    {
     "data": {
      "text/plain": [
       "{2, 4, 7, 9, 12, 15}"
      ]
     },
     "execution_count": 155,
     "metadata": {},
     "output_type": "execute_result"
    }
   ],
   "source": [
    "conjunto.add(12)\n",
    "conjunto"
   ]
  },
  {
   "cell_type": "markdown",
   "id": "4116c59c",
   "metadata": {},
   "source": [
    "Remoção de Elementos\n",
    "\n",
    "Você pode remover elementos de um conjunto usando os métodos remove() ou discard()."
   ]
  },
  {
   "cell_type": "code",
   "execution_count": 156,
   "id": "5c5ec672",
   "metadata": {},
   "outputs": [
    {
     "data": {
      "text/plain": [
       "{2, 4, 7, 9, 15}"
      ]
     },
     "execution_count": 156,
     "metadata": {},
     "output_type": "execute_result"
    }
   ],
   "source": [
    "conjunto.remove(12)\n",
    "conjunto"
   ]
  },
  {
   "cell_type": "code",
   "execution_count": 158,
   "id": "425bcd23",
   "metadata": {},
   "outputs": [
    {
     "data": {
      "text/plain": [
       "{2, 4, 7, 9}"
      ]
     },
     "execution_count": 158,
     "metadata": {},
     "output_type": "execute_result"
    }
   ],
   "source": [
    "conjunto.discard(15)\n",
    "conjunto"
   ]
  },
  {
   "cell_type": "markdown",
   "id": "84c11d38",
   "metadata": {},
   "source": [
    "Operações de Conjunto\n",
    "\n",
    "Você pode realizar operações de conjunto como união, interseção e diferença."
   ]
  },
  {
   "cell_type": "code",
   "execution_count": 161,
   "id": "f6ac7bc3",
   "metadata": {},
   "outputs": [
    {
     "name": "stdout",
     "output_type": "stream",
     "text": [
      "{1, 2, 3, 4, 5}\n",
      "{3}\n",
      "{1, 2}\n"
     ]
    }
   ],
   "source": [
    "conjunto1 = {1,2,3}\n",
    "conjunto2 = {3,4,5}\n",
    "\n",
    "print(conjunto1 | conjunto2)\n",
    "\n",
    "print(conjunto1 & conjunto2)\n",
    "\n",
    "print(conjunto1 - conjunto2)"
   ]
  },
  {
   "cell_type": "markdown",
   "id": "67c21592",
   "metadata": {},
   "source": [
    "Nota: A diferença entre dois conjuntos, denotada por conjunto1 - conjunto2, retorna um novo conjunto contendo todos os elementos que estão presentes no conjunto1 e não estão presentes no conjunto2. Em outras palavras, são todos os elementos que pertencem ao conjunto1 mas não pertencem ao conjunto2.\n",
    "\n",
    "Nesse caso específico, a diferença será {1, 2}, pois os elementos 1 e 2 estão presentes em conjunto1 e não estão presentes em conjunto2. O elemento 3 não será incluído na diferença, pois ele está presente em ambos os conjuntos.\n",
    "\n",
    "\n",
    "***"
   ]
  },
  {
   "cell_type": "markdown",
   "id": "35c52972",
   "metadata": {},
   "source": [
    "##### Séries\n",
    "Uma série é uma estrutura de dados unidimensional que pode conter qualquer tipo de dados, como números inteiros, números de ponto flutuante, strings, entre outros. Cada elemento em uma série possui um rótulo associado, chamado de índice. A série pode ser vista como uma coluna em uma planilha ou uma matriz com apenas uma linha."
   ]
  },
  {
   "cell_type": "markdown",
   "id": "a6cf7d8a",
   "metadata": {},
   "source": [
    "Exemplo no mundo real: Uma série pode representar as temperaturas registradas diariamente em uma cidade ao longo de um mês, onde cada temperatura está associada a uma data."
   ]
  },
  {
   "cell_type": "code",
   "execution_count": 165,
   "id": "e865131b",
   "metadata": {},
   "outputs": [
    {
     "data": {
      "text/plain": [
       "2024-09-15    25\n",
       "2024-09-16    28\n",
       "2024-09-17    31\n",
       "2024-09-18    22\n",
       "dtype: int64"
      ]
     },
     "execution_count": 165,
     "metadata": {},
     "output_type": "execute_result"
    }
   ],
   "source": [
    "import pandas as pd\n",
    "\n",
    "temperaturas = pd.Series([25, 28, 31, 22], index= ['2024-09-15', '2024-09-16', '2024-09-17', '2024-09-18'])\n",
    "temperaturas"
   ]
  },
  {
   "cell_type": "markdown",
   "id": "39a130ff",
   "metadata": {},
   "source": [
    "##### DataFrames\n",
    "Um DataFrame é uma estrutura de dados bidimensional semelhante a uma tabela de banco de dados ou uma planilha do Excel. Ele é composto por linhas e colunas, onde cada coluna pode ser de um tipo de dado diferente. Os DataFrames são altamente flexíveis e podem ser usados para armazenar e manipular dados heterogêneos.\n",
    "\n",
    "Exemplo no mundo real: Um DataFrame pode representar dados de vendas de uma empresa, onde cada linha corresponde a uma transação e as colunas representam informações como o ID do cliente, o produto vendido, a quantidade vendida e o valor da venda."
   ]
  },
  {
   "cell_type": "code",
   "execution_count": 167,
   "id": "0c58cd5f",
   "metadata": {},
   "outputs": [],
   "source": [
    "dados = {\n",
    "    'cod_cliente': [1,2,3,4,5],\n",
    "    'nome_cliente': ['John', 'Eva', 'Jessica', 'James', 'Joe'],\n",
    "    'Cidade': ['Belo Horizonte', 'Sete Lagoas', 'Betim', 'Contagem', 'Ibirité']\n",
    "}\n",
    "\n",
    "df_clientes = pd.DataFrame(dados)"
   ]
  },
  {
   "cell_type": "code",
   "execution_count": 168,
   "id": "2ad78bb5",
   "metadata": {},
   "outputs": [
    {
     "data": {
      "text/html": [
       "<div>\n",
       "<style scoped>\n",
       "    .dataframe tbody tr th:only-of-type {\n",
       "        vertical-align: middle;\n",
       "    }\n",
       "\n",
       "    .dataframe tbody tr th {\n",
       "        vertical-align: top;\n",
       "    }\n",
       "\n",
       "    .dataframe thead th {\n",
       "        text-align: right;\n",
       "    }\n",
       "</style>\n",
       "<table border=\"1\" class=\"dataframe\">\n",
       "  <thead>\n",
       "    <tr style=\"text-align: right;\">\n",
       "      <th></th>\n",
       "      <th>cod_cliente</th>\n",
       "      <th>nome_cliente</th>\n",
       "      <th>Cidade</th>\n",
       "    </tr>\n",
       "  </thead>\n",
       "  <tbody>\n",
       "    <tr>\n",
       "      <th>0</th>\n",
       "      <td>1</td>\n",
       "      <td>John</td>\n",
       "      <td>Belo Horizonte</td>\n",
       "    </tr>\n",
       "    <tr>\n",
       "      <th>1</th>\n",
       "      <td>2</td>\n",
       "      <td>Eva</td>\n",
       "      <td>Sete Lagoas</td>\n",
       "    </tr>\n",
       "    <tr>\n",
       "      <th>2</th>\n",
       "      <td>3</td>\n",
       "      <td>Jessica</td>\n",
       "      <td>Betim</td>\n",
       "    </tr>\n",
       "    <tr>\n",
       "      <th>3</th>\n",
       "      <td>4</td>\n",
       "      <td>James</td>\n",
       "      <td>Contagem</td>\n",
       "    </tr>\n",
       "    <tr>\n",
       "      <th>4</th>\n",
       "      <td>5</td>\n",
       "      <td>Joe</td>\n",
       "      <td>Ibirité</td>\n",
       "    </tr>\n",
       "  </tbody>\n",
       "</table>\n",
       "</div>"
      ],
      "text/plain": [
       "   cod_cliente nome_cliente          Cidade\n",
       "0            1         John  Belo Horizonte\n",
       "1            2          Eva     Sete Lagoas\n",
       "2            3      Jessica           Betim\n",
       "3            4        James        Contagem\n",
       "4            5          Joe         Ibirité"
      ]
     },
     "execution_count": 168,
     "metadata": {},
     "output_type": "execute_result"
    }
   ],
   "source": [
    "df_clientes"
   ]
  }
 ],
 "metadata": {
  "kernelspec": {
   "display_name": "pucminas",
   "language": "python",
   "name": "pucminas"
  },
  "language_info": {
   "codemirror_mode": {
    "name": "ipython",
    "version": 3
   },
   "file_extension": ".py",
   "mimetype": "text/x-python",
   "name": "python",
   "nbconvert_exporter": "python",
   "pygments_lexer": "ipython3",
   "version": "3.11.3"
  }
 },
 "nbformat": 4,
 "nbformat_minor": 5
}
